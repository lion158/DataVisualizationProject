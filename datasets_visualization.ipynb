{
 "cells": [
  {
   "cell_type": "code",
   "execution_count": null,
   "outputs": [],
   "source": [
    "import numpy as np\n",
    "import matplotlib.pyplot as plt"
   ],
   "metadata": {
    "collapsed": false
   }
  },
  {
   "cell_type": "code",
   "execution_count": null,
   "metadata": {
    "collapsed": true
   },
   "outputs": [],
   "source": [
    "def ball_points_generator(dim, N, radius):\n",
    "    # Generowanie macierzy zmiennych losowych o rozkładzie normalnym standardowym\n",
    "    xi = np.random.normal(size=(dim, N))\n",
    "\n",
    "    # obliczanie normy\n",
    "    norm = np.linalg.norm(xi, axis=0)\n",
    "\n",
    "    S = xi / norm\n",
    "    U = np.random.uniform(low=0.0, high=1.0, size=N)\n",
    "    S = S * np.power(U, 1/dim)\n",
    "    points = S * radius\n",
    "\n",
    "\n",
    "    # Transponowanie macierzy punktów\n",
    "    # points = scaled_xi.T\n",
    "\n",
    "    return points.T"
   ]
  },
  {
   "cell_type": "code",
   "execution_count": null,
   "outputs": [],
   "source": [
    "def sphere_points_generator(dim, N, radius):\n",
    "    # Generowanie macierzy zmiennych losowych o rozkładzie normalnym standardowym\n",
    "    xi = np.random.normal(size=(dim, N))\n",
    "\n",
    "    # Obliczanie sumy kwadratów zmiennych losowych dla każdego punktu\n",
    "    sum_of_squares = np.sum(xi**2, axis=0)\n",
    "\n",
    "    # Obliczanie wartości λ na podstawie żądanej wartości\n",
    "    lambda_squared = radius**2\n",
    "\n",
    "    # Skalowanie zmiennych losowych dla każdego punktu, aby uzyskać żądaną wartość λ\n",
    "    scaled_xi = xi * np.sqrt(lambda_squared / sum_of_squares)\n",
    "\n",
    "    # Transponowanie macierzy punktów\n",
    "    # unit_vectors = scaled_xi.T\n",
    "\n",
    "    # return unit_vecto\n",
    "    return scaled_xi.T"
   ],
   "metadata": {
    "collapsed": false
   }
  },
  {
   "cell_type": "code",
   "execution_count": null,
   "outputs": [],
   "source": [
    "# torus\n",
    "def generate_n_dimensional_torus(n_dimensions, n_points, R=2, r=1):\n",
    "    \"\"\"\n",
    "    Creates an n-dimensional torus.\n",
    "\n",
    "    Parameters:\n",
    "    n_dimensions : int\n",
    "        The number of dimensions for the torus. Must be greater than or equal to 2.\n",
    "    n_points : int\n",
    "        The number of points.\n",
    "    R : float\n",
    "        The distance from the center of the tube to the center of the torus.\n",
    "    r : float\n",
    "        The radius of the tube (distance from the center of the tube to the torus surface).\n",
    "\n",
    "    Returns:\n",
    "    numpy.ndarray\n",
    "        The n-dimensional points of the torus.\n",
    "    \"\"\"\n",
    "\n",
    "    assert n_dimensions >= 2, \"Number of dimensions must be greater than or equal to 2.\"\n",
    "\n",
    "    # generate n_points random angles for each dimension\n",
    "    angles = np.random.uniform(0, 2*np.pi, (n_points, n_dimensions))\n",
    "\n",
    "    # calculate the n-dimensional points on the torus\n",
    "    coordinates = []\n",
    "    for i in range(n_dimensions):\n",
    "        if i == 0:\n",
    "            coordinate = (R + r * np.cos(angles[:, 1])) * np.cos(angles[:, 0])\n",
    "        elif i == 1:\n",
    "            coordinate = (R + r * np.cos(angles[:, 1])) * np.sin(angles[:, 0])\n",
    "        else:\n",
    "            coordinate = r * np.sin(angles[:, i])\n",
    "        coordinates.append(coordinate)\n",
    "\n",
    "    return np.array(coordinates).T"
   ],
   "metadata": {
    "collapsed": false
   }
  },
  {
   "cell_type": "markdown",
   "source": [
    "# Torus inside sphere"
   ],
   "metadata": {
    "collapsed": false
   }
  },
  {
   "cell_type": "markdown",
   "source": [
    "### 3D"
   ],
   "metadata": {
    "collapsed": false
   }
  },
  {
   "cell_type": "code",
   "execution_count": null,
   "outputs": [],
   "source": [
    "sphere_points = sphere_points_generator(3, 1000, 10)\n",
    "torus_points = generate_n_dimensional_torus(3, 1000, 4)\n",
    "# rozbicie punktów na współrzędne x, y, z\n",
    "x = [point[0] for point in sphere_points]\n",
    "y = [point[1] for point in sphere_points]\n",
    "z = [point[2] for point in sphere_points]\n",
    "\n",
    "x1 = [point[0] for point in torus_points]\n",
    "y1 = [point[1] for point in torus_points]\n",
    "z1 = [point[2] for point in torus_points]\n",
    "\n",
    "# utworzenie figury 3D\n",
    "fig = plt.figure()\n",
    "ax = fig.add_subplot(111, projection='3d')\n",
    "\n",
    "# wygenerowanie wykresu punktów\n",
    "ax.scatter(x, y, z, c='green')\n",
    "ax.scatter(x1, y1, z1, c='blue')\n",
    "\n",
    "# ustawienie etykiet osi\n",
    "ax.set_xlabel('X')\n",
    "ax.set_ylabel('Y')\n",
    "ax.set_zlabel('Z')\n",
    "\n",
    "# wyświetlenie wykresu\n",
    "plt.show()"
   ],
   "metadata": {
    "collapsed": false
   }
  },
  {
   "cell_type": "markdown",
   "source": [
    "### 2D"
   ],
   "metadata": {
    "collapsed": false
   }
  },
  {
   "cell_type": "code",
   "execution_count": null,
   "outputs": [],
   "source": [
    "sphere_points = sphere_points_generator(2, 10000, 10)\n",
    "torus_points = generate_n_dimensional_torus(2, 10000, 4)\n",
    "\n",
    "# rozbicie punktów na współrzędne x, y\n",
    "x = [point[0] for point in sphere_points]\n",
    "y = [point[1] for point in sphere_points]\n",
    "\n",
    "x1 = [point[0] for point in torus_points]\n",
    "y1 = [point[1] for point in torus_points]\n",
    "\n",
    "# utworzenie figury\n",
    "fig, ax = plt.subplots()\n",
    "\n",
    "# wygenerowanie wykresu punktów\n",
    "ax.scatter(x, y, c='green')\n",
    "ax.scatter(x1, y1, c='blue')\n",
    "\n",
    "# ustawienie etykiet osi\n",
    "ax.set_xlabel('X')\n",
    "ax.set_ylabel('Y')\n",
    "\n",
    "# wyświetlenie wykresu\n",
    "plt.show()"
   ],
   "metadata": {
    "collapsed": false
   }
  },
  {
   "cell_type": "markdown",
   "source": [
    "# Ball inside sphere"
   ],
   "metadata": {
    "collapsed": false
   }
  },
  {
   "cell_type": "markdown",
   "source": [
    "### 3D"
   ],
   "metadata": {
    "collapsed": false
   }
  },
  {
   "cell_type": "code",
   "execution_count": null,
   "outputs": [],
   "source": [
    "sphere_points = sphere_points_generator(3, 1000, 7)\n",
    "ball_points = ball_points_generator(3, 1000, 2)\n",
    "# rozbicie punktów na współrzędne x, y, z\n",
    "x = [point[0] for point in sphere_points]\n",
    "y = [point[1] for point in sphere_points]\n",
    "z = [point[2] for point in sphere_points]\n",
    "\n",
    "x1 = [point[0] for point in ball_points]\n",
    "y1 = [point[1] for point in ball_points]\n",
    "z1 = [point[2] for point in ball_points]\n",
    "\n",
    "# utworzenie figury 3D\n",
    "fig = plt.figure()\n",
    "ax = fig.add_subplot(111, projection='3d')\n",
    "\n",
    "# wygenerowanie wykresu punktów\n",
    "ax.scatter(x, y, z, c='green')\n",
    "ax.scatter(x1, y1, z1, c='blue')\n",
    "\n",
    "# ustawienie etykiet osi\n",
    "ax.set_xlabel('X')\n",
    "ax.set_ylabel('Y')\n",
    "ax.set_zlabel('Z')\n",
    "\n",
    "# wyświetlenie wykresu\n",
    "plt.show()"
   ],
   "metadata": {
    "collapsed": false
   }
  },
  {
   "cell_type": "markdown",
   "source": [
    "### 2D"
   ],
   "metadata": {
    "collapsed": false
   }
  },
  {
   "cell_type": "code",
   "execution_count": null,
   "outputs": [],
   "source": [
    "sphere_points = sphere_points_generator(2, 10000, 7)\n",
    "ball_points = ball_points_generator(2, 10000, 2)\n",
    "# rozbicie punktów na współrzędne x, y, z\n",
    "x = [point[0] for point in sphere_points]\n",
    "y = [point[1] for point in sphere_points]\n",
    "\n",
    "x1 = [point[0] for point in ball_points]\n",
    "y1 = [point[1] for point in ball_points]\n",
    "\n",
    "\n",
    "# utworzenie figury\n",
    "fig, ax = plt.subplots()\n",
    "\n",
    "# wygenerowanie wykresu punktów\n",
    "ax.scatter(x, y, c='green')\n",
    "ax.scatter(x1, y1, c='blue')\n",
    "\n",
    "# ustawienie etykiet osi\n",
    "ax.set_xlabel('X')\n",
    "ax.set_ylabel('Y')\n",
    "\n",
    "# wyświetlenie wykresu\n",
    "plt.show()"
   ],
   "metadata": {
    "collapsed": false
   }
  },
  {
   "cell_type": "markdown",
   "source": [
    "# Ball inside two sphers"
   ],
   "metadata": {
    "collapsed": false
   }
  },
  {
   "cell_type": "markdown",
   "source": [
    "### 3D"
   ],
   "metadata": {
    "collapsed": false
   }
  },
  {
   "cell_type": "code",
   "execution_count": null,
   "outputs": [],
   "source": [
    "sphere_points = sphere_points_generator(3, 1000, 7)\n",
    "sphere_points2 = sphere_points_generator(3, 1000, 10)\n",
    "ball_points = ball_points_generator(3, 1000, 2)\n",
    "\n",
    "# rozbicie punktów na współrzędne x, y, z\n",
    "x = [point[0] for point in sphere_points]\n",
    "y = [point[1] for point in sphere_points]\n",
    "z = [point[2] for point in sphere_points]\n",
    "\n",
    "x1 = [point[0] for point in ball_points]\n",
    "y1 = [point[1] for point in ball_points]\n",
    "z1 = [point[2] for point in ball_points]\n",
    "\n",
    "x2 = [point[0] for point in sphere_points2]\n",
    "y2 = [point[1] for point in sphere_points2]\n",
    "z2 = [point[2] for point in sphere_points2]\n",
    "\n",
    "# utworzenie figury 3D\n",
    "fig = plt.figure()\n",
    "ax = fig.add_subplot(111, projection='3d')\n",
    "\n",
    "# wygenerowanie wykresu punktów\n",
    "ax.scatter(x, y, z, c='green')\n",
    "ax.scatter(x1, y1, z1, c='red')\n",
    "ax.scatter(x2, y2, z2, c='blue')\n",
    "\n",
    "# ustawienie etykiet osi\n",
    "ax.set_xlabel('X')\n",
    "ax.set_ylabel('Y')\n",
    "ax.set_zlabel('Z')\n",
    "\n",
    "# wyświetlenie wykresu\n",
    "plt.show()"
   ],
   "metadata": {
    "collapsed": false
   }
  },
  {
   "cell_type": "markdown",
   "source": [
    "### 2D"
   ],
   "metadata": {
    "collapsed": false
   }
  },
  {
   "cell_type": "code",
   "execution_count": null,
   "outputs": [],
   "source": [
    "import matplotlib.pyplot as plt\n",
    "\n",
    "sphere_points = sphere_points_generator(2, 10000, 7)\n",
    "sphere_points2 = sphere_points_generator(2, 10000, 10)\n",
    "ball_points = ball_points_generator(2, 10000, 2)\n",
    "\n",
    "# rozbicie punktów na współrzędne x, y\n",
    "x = [point[0] for point in sphere_points]\n",
    "y = [point[1] for point in sphere_points]\n",
    "\n",
    "x1 = [point[0] for point in ball_points]\n",
    "y1 = [point[1] for point in ball_points]\n",
    "\n",
    "x2 = [point[0] for point in sphere_points2]\n",
    "y2 = [point[1] for point in sphere_points2]\n",
    "\n",
    "# utworzenie figury\n",
    "fig, ax = plt.subplots()\n",
    "\n",
    "# wygenerowanie wykresu punktów\n",
    "ax.scatter(x, y, c='green')\n",
    "ax.scatter(x1, y1, c='red')\n",
    "ax.scatter(x2, y2, c='blue')\n",
    "\n",
    "# ustawienie etykiet osi\n",
    "ax.set_xlabel('X')\n",
    "ax.set_ylabel('Y')\n",
    "\n",
    "# wyświetlenie wykresu\n",
    "plt.show()"
   ],
   "metadata": {
    "collapsed": false
   }
  }
 ],
 "metadata": {
  "kernelspec": {
   "display_name": "Python 3",
   "language": "python",
   "name": "python3"
  },
  "language_info": {
   "codemirror_mode": {
    "name": "ipython",
    "version": 2
   },
   "file_extension": ".py",
   "mimetype": "text/x-python",
   "name": "python",
   "nbconvert_exporter": "python",
   "pygments_lexer": "ipython2",
   "version": "2.7.6"
  }
 },
 "nbformat": 4,
 "nbformat_minor": 0
}
