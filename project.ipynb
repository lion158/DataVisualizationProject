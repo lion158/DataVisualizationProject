{
 "cells": [
  {
   "cell_type": "code",
   "execution_count": 1,
   "outputs": [
    {
     "name": "stderr",
     "output_type": "stream",
     "text": [
      "M:\\Anaconda\\envs\\tf\\lib\\site-packages\\umap\\distances.py:1063: NumbaDeprecationWarning: \u001B[1mThe 'nopython' keyword argument was not supplied to the 'numba.jit' decorator. The implicit default value for this argument is currently False, but it will be changed to True in Numba 0.59.0. See https://numba.readthedocs.io/en/stable/reference/deprecation.html#deprecation-of-object-mode-fall-back-behaviour-when-using-jit for details.\u001B[0m\n",
      "  @numba.jit()\n",
      "M:\\Anaconda\\envs\\tf\\lib\\site-packages\\umap\\distances.py:1071: NumbaDeprecationWarning: \u001B[1mThe 'nopython' keyword argument was not supplied to the 'numba.jit' decorator. The implicit default value for this argument is currently False, but it will be changed to True in Numba 0.59.0. See https://numba.readthedocs.io/en/stable/reference/deprecation.html#deprecation-of-object-mode-fall-back-behaviour-when-using-jit for details.\u001B[0m\n",
      "  @numba.jit()\n",
      "M:\\Anaconda\\envs\\tf\\lib\\site-packages\\umap\\distances.py:1086: NumbaDeprecationWarning: \u001B[1mThe 'nopython' keyword argument was not supplied to the 'numba.jit' decorator. The implicit default value for this argument is currently False, but it will be changed to True in Numba 0.59.0. See https://numba.readthedocs.io/en/stable/reference/deprecation.html#deprecation-of-object-mode-fall-back-behaviour-when-using-jit for details.\u001B[0m\n",
      "  @numba.jit()\n",
      "M:\\Anaconda\\envs\\tf\\lib\\site-packages\\umap\\umap_.py:660: NumbaDeprecationWarning: \u001B[1mThe 'nopython' keyword argument was not supplied to the 'numba.jit' decorator. The implicit default value for this argument is currently False, but it will be changed to True in Numba 0.59.0. See https://numba.readthedocs.io/en/stable/reference/deprecation.html#deprecation-of-object-mode-fall-back-behaviour-when-using-jit for details.\u001B[0m\n",
      "  @numba.jit()\n"
     ]
    }
   ],
   "source": [
    "import matplotlib.pyplot as plt\n",
    "import numpy as np\n",
    "from sklearn.manifold import TSNE\n",
    "from umap import UMAP\n",
    "from trimap import TRIMAP\n",
    "from pacmap import PaCMAP"
   ],
   "metadata": {
    "collapsed": false,
    "ExecuteTime": {
     "end_time": "2023-07-01T07:36:20.103557900Z",
     "start_time": "2023-07-01T07:35:53.751696400Z"
    }
   }
  },
  {
   "cell_type": "code",
   "execution_count": 1,
   "outputs": [],
   "source": [],
   "metadata": {
    "collapsed": false,
    "ExecuteTime": {
     "end_time": "2023-07-01T07:36:20.114542500Z",
     "start_time": "2023-07-01T07:36:20.095546100Z"
    }
   }
  },
  {
   "cell_type": "markdown",
   "source": [
    "generowanie fig - to będzie do zmiany"
   ],
   "metadata": {
    "collapsed": false
   }
  },
  {
   "cell_type": "code",
   "execution_count": 2,
   "outputs": [],
   "source": [
    "\n",
    "## kod pożyczony\n",
    "# (można sprawdzić, czy napewno dobry w wielu wymiarach)\n",
    "# torus\n",
    "def generate_n_dimensional_torus(n_dimensions, n_points, R=2, r=1):\n",
    "    \"\"\"\n",
    "    Creates an n-dimensional torus.\n",
    "\n",
    "    Parameters:\n",
    "    n_dimensions : int\n",
    "        The number of dimensions for the torus. Must be greater than or equal to 2.\n",
    "    n_points : int\n",
    "        The number of points.\n",
    "    R : float\n",
    "        The distance from the center of the tube to the center of the torus.\n",
    "    r : float\n",
    "        The radius of the tube (distance from the center of the tube to the torus surface).\n",
    "\n",
    "    Returns:\n",
    "    numpy.ndarray\n",
    "        The n-dimensional points of the torus.\n",
    "    \"\"\"\n",
    "\n",
    "    assert n_dimensions >= 2, \"Number of dimensions must be greater than or equal to 2.\"\n",
    "\n",
    "    # generate n_points random angles for each dimension\n",
    "    angles = np.random.uniform(0, 2*np.pi, (n_points, n_dimensions))\n",
    "\n",
    "    # calculate the n-dimensional points on the torus\n",
    "    coordinates = []\n",
    "    for i in range(n_dimensions):\n",
    "        if i == 0:\n",
    "            coordinate = (R + r * np.cos(angles[:, 1])) * np.cos(angles[:, 0])\n",
    "        elif i == 1:\n",
    "            coordinate = (R + r * np.cos(angles[:, 1])) * np.sin(angles[:, 0])\n",
    "        else:\n",
    "            coordinate = r * np.sin(angles[:, i])\n",
    "        coordinates.append(coordinate)\n",
    "\n",
    "    return np.array(coordinates).T\n",
    "\n",
    "#https://blogs.sas.com/content/iml/2016/04/06/generate-points-uniformly-in-ball.html\n",
    "def ball_points_generator(dim, N, radius):\n",
    "    # Generowanie macierzy zmiennych losowych o rozkładzie normalnym standardowym\n",
    "    xi = np.random.normal(size=(dim, N))\n",
    "\n",
    "    # obliczanie normy\n",
    "    norm = np.linalg.norm(xi, axis=0)\n",
    "\n",
    "    S = xi / norm\n",
    "    U = np.random.uniform(low=0.0, high=1.0, size=N)\n",
    "    S = S * np.power(U, 1/dim)\n",
    "    points = S * radius\n",
    "\n",
    "    # Transponowanie macierzy punktów\n",
    "    # points = scaled_xi.T\n",
    "\n",
    "    return points.T\n",
    "\n",
    "def sphere_points_generator(dim, N, radius):\n",
    "    # Generowanie macierzy zmiennych losowych o rozkładzie normalnym standardowym\n",
    "    xi = np.random.normal(size=(dim, N))\n",
    "\n",
    "    # Obliczanie sumy kwadratów zmiennych losowych dla każdego punktu\n",
    "    sum_of_squares = np.sum(xi**2, axis=0)\n",
    "\n",
    "    # Obliczanie wartości λ na podstawie żądanej wartości\n",
    "    lambda_squared = radius**2\n",
    "\n",
    "    # Skalowanie zmiennych losowych dla każdego punktu, aby uzyskać żądaną wartość λ\n",
    "    scaled_xi = xi * np.sqrt(lambda_squared / sum_of_squares)\n",
    "\n",
    "    # Transponowanie macierzy punktów\n",
    "    # unit_vectors = scaled_xi.T\n",
    "\n",
    "    # return unit_vecto\n",
    "    return scaled_xi.T"
   ],
   "metadata": {
    "collapsed": false,
    "ExecuteTime": {
     "end_time": "2023-07-01T07:36:20.127956800Z",
     "start_time": "2023-07-01T07:36:20.112559800Z"
    }
   }
  },
  {
   "cell_type": "code",
   "execution_count": 2,
   "outputs": [],
   "source": [],
   "metadata": {
    "collapsed": false,
    "ExecuteTime": {
     "end_time": "2023-07-01T07:36:20.167978600Z",
     "start_time": "2023-07-01T07:36:20.124958200Z"
    }
   }
  },
  {
   "cell_type": "markdown",
   "source": [
    "redukcja wymiarowości"
   ],
   "metadata": {
    "collapsed": false
   }
  },
  {
   "cell_type": "code",
   "execution_count": 3,
   "outputs": [],
   "source": [
    "def TSNE_reduce(data):\n",
    "    tsne = TSNE()\n",
    "    return tsne.fit_transform(data), \"TSNE\"\n",
    "\n",
    "def Umap_reduce(data):\n",
    "    umap = UMAP()\n",
    "    return umap.fit_transform(data), \"Umap\"\n",
    "\n",
    "def Trimap_reduce(data):\n",
    "    trimap = TRIMAP()\n",
    "    return trimap.fit_transform(data), \"Trimap\"\n",
    "\n",
    "def Pacmap_reduce(data):\n",
    "    pacmap = PaCMAP()\n",
    "    return pacmap.fit_transform(data), \"Pacmap\"\n",
    "\n",
    "# def IVHD_reduce(data):\n",
    "#     ...\n",
    "\n"
   ],
   "metadata": {
    "collapsed": false,
    "ExecuteTime": {
     "end_time": "2023-07-01T07:36:20.168980900Z",
     "start_time": "2023-07-01T07:36:20.139966500Z"
    }
   }
  },
  {
   "cell_type": "code",
   "execution_count": 5,
   "outputs": [],
   "source": [
    "## losowe generowanie\n",
    "\n",
    "#kulka i 2 sfery\n",
    "def ball_two_sphere(dim,points):\n",
    "    sphere_points = sphere_points_generator(dim, points, 5)\n",
    "    sphere_points2 = sphere_points_generator(dim, points, 7)\n",
    "    ball_points = ball_points_generator(dim, points, 2)\n",
    "    y1 = np.zeros(points)\n",
    "    y2 = np.ones(points)\n",
    "    y3 = np.full(points, 2)\n",
    "    labels = np.concatenate((y1, y2, y3))\n",
    "    return np.concatenate((sphere_points, sphere_points2, ball_points)), 3, labels\n",
    "\n",
    "#one sphere one ball\n",
    "def ball_sphere(dim,points):\n",
    "        sphere_points = sphere_points_generator(dim, points, 5)\n",
    "        ball_points = ball_points_generator(dim, points, 2)\n",
    "        y1 = np.zeros(points)\n",
    "        y2 = np.ones(points)\n",
    "        labels = np.concatenate((y1, y2))\n",
    "        return  np.concatenate((sphere_points, ball_points)), 2, labels\n",
    "\n",
    "\n",
    "def one_sphere_one_torus_inside_dataset( dim, points_number, sphere_r=4, torus_R=2, torus_r=1):\n",
    "\n",
    "     sphere_points = sphere_points_generator(dim, points_number, sphere_r)\n",
    "     torus_points = generate_n_dimensional_torus(dim, points_number, torus_R, torus_r)\n",
    "     y1 = np.zeros(points_number)\n",
    "     y2 = np.ones(points_number)\n",
    "\n",
    "     labels = np.concatenate((y1, y2))\n",
    "     return np.concatenate((sphere_points, torus_points)), 4, labels\n"
   ],
   "metadata": {
    "collapsed": false,
    "ExecuteTime": {
     "end_time": "2023-07-01T07:36:20.197970900Z",
     "start_time": "2023-07-01T07:36:20.171984800Z"
    }
   }
  },
  {
   "cell_type": "code",
   "execution_count": 7,
   "outputs": [],
   "source": [
    "import os\n",
    "import matplotlib.pyplot as plt\n",
    "\n",
    "from local_score import LocalMetric\n",
    "reduction_dict = { \"TSNE\": TSNE_reduce,\"Umap\":Umap_reduce,\"Trimap\":Trimap_reduce,\"Pacmap\":Pacmap_reduce}\n",
    "figure_dict = {\"ball_sphere\" : ball_sphere, \"ball_two_sphere\": ball_two_sphere, \"one_sphere_one_torus_inside_dataset\":one_sphere_one_torus_inside_dataset}\n",
    "\n",
    "\n",
    "dimensions = [3, 5, 10, 20]\n",
    "emem = [1000, 2000, 5000, 20000]\n",
    "\n",
    "local_metrics_list = []\n",
    "\n",
    "for _ in enumerate(dimensions):\n",
    "    local_metrics_list.append(LocalMetric())\n",
    "\n",
    "\n",
    "\n",
    "\n",
    "def show_plot(reduction_method, data):\n",
    "\n",
    "    colors = ['b', 'g', 'r']  # Define colors for each set\n",
    "\n",
    "    fig, axes = plt.subplots(len(dimensions), len(emem))\n",
    "    plt_name = \"\"\n",
    "    for j, e in enumerate(emem):\n",
    "        for i, d in enumerate(dimensions):\n",
    "\n",
    "\n",
    "            dataset, object_count, labels = data(d,e)\n",
    "            reduced, red_name = reduction_method(dataset) #to\n",
    "            if e == max(emem):\n",
    "                local_metrics_list[i].calculate_knn_gain_and_dr_quality(\n",
    "                X_lds=reduced,\n",
    "                X_hds=dataset,\n",
    "                labels=labels,\n",
    "                method_name=f\"{red_name}\")\n",
    "            #generate_metrics(reduced)\n",
    "            # print(type(dataset))\n",
    "            # print(type(reduced))\n",
    "            # Plot in the corresponding subplot\n",
    "            axes[i, j].set_title(f\"dim: {d}, elem: {e}\")\n",
    "\n",
    "            fig_name = ''\n",
    "\n",
    "            # #if object_count == 2:\n",
    "            if object_count == 2:\n",
    "            #     # Assign colors based on the sets\n",
    "                axes[i, j].scatter(reduced[:e, 0], reduced[:e, 1], c=colors[0], alpha=0.5, label='Sphere Points', s=1)\n",
    "                axes[i, j].scatter(reduced[e:, 0], reduced[e:, 1], c=colors[1], alpha=0.5, label='Ball Points', s=1)\n",
    "                fig_name = \"ball_sphere\"\n",
    "            elif object_count == 3:\n",
    "                axes[i, j].scatter(reduced[:e, 0], reduced[:e, 1], c=colors[1], alpha=0.5, label='Sphere Points', s=1)\n",
    "                axes[i, j].scatter(reduced[e:2*e, 0], reduced[e:2*e, 1], c=colors[0], alpha=0.5, label='Sphere Points', s=1)\n",
    "                axes[i, j].scatter(reduced[2*e:, 0], reduced[2*e:, 1], c=colors[2], alpha=0.5, label='Ball Points', s=1)\n",
    "                fig_name =\"ball_two_sphere\"\n",
    "            else:\n",
    "                axes[i, j].scatter(reduced[:e, 0], reduced[:e, 1], c=colors[0], alpha=0.5, label='Sphere Points', s=1)\n",
    "                axes[i, j].scatter(reduced[e:, 0], reduced[e:, 1], c=colors[1], alpha=0.5, label='torus_points', s=1)\n",
    "                fig_name = \"one_sphere_one_torus_inside_dataset\"\n",
    "\n",
    "            # Save the plot as a distinct figure\n",
    "            folder_path = f\"datasets/{fig_name}/{red_name}\"\n",
    "            if not os.path.exists(folder_path):\n",
    "                os.makedirs(folder_path)\n",
    "\n",
    "            # Zapis plików\n",
    "            np.savetxt(f\"{folder_path}/EMB_dim_{d}_points_{e}.csv\", reduced, delimiter=\",\")\n",
    "            np.savetxt(f\"{folder_path}/DATA_dim_{d}_points_{e}.csv\", dataset, delimiter=\",\")\n",
    "\n",
    "    plt.tight_layout()\n",
    "    handles, labels = axes[0, 0].get_legend_handles_labels()\n",
    "    fig.legend(handles, labels)\n",
    "    fig.set_size_inches(18, 12)\n",
    "    plt_name = f'plots_final/{red_name}_{fig_name}.png'\n",
    "    plt.savefig(plt_name)\n",
    "    plt.close(fig)  # Close the figure to release memory\n",
    "\n",
    "    print(\"Plots saved successfully!\")"
   ],
   "metadata": {
    "collapsed": false,
    "ExecuteTime": {
     "end_time": "2023-07-01T07:36:20.235981600Z",
     "start_time": "2023-07-01T07:36:20.212976500Z"
    }
   }
  },
  {
   "cell_type": "code",
   "execution_count": 7,
   "outputs": [],
   "source": [],
   "metadata": {
    "collapsed": false,
    "ExecuteTime": {
     "end_time": "2023-07-01T07:36:20.270987900Z",
     "start_time": "2023-07-01T07:36:20.236980300Z"
    }
   }
  },
  {
   "cell_type": "code",
   "execution_count": 8,
   "outputs": [],
   "source": [
    "#show_plot(Trimap_reduce,ball_two_sphere)"
   ],
   "metadata": {
    "collapsed": false,
    "ExecuteTime": {
     "end_time": "2023-07-01T07:36:20.270987900Z",
     "start_time": "2023-07-01T07:36:20.251987600Z"
    }
   }
  },
  {
   "cell_type": "code",
   "execution_count": null,
   "outputs": [
    {
     "name": "stdout",
     "output_type": "stream",
     "text": [
      "ball_sphere\n",
      "Calculating d_hd\n",
      "TSNE\n",
      "Calculating d_hd\n",
      "TSNE\n",
      "Calculating d_hd\n",
      "TSNE\n",
      "Calculating d_hd\n",
      "TSNE\n",
      "Plots saved successfully!\n",
      "TSNE\n",
      "Calculating d_hd\n",
      "Umap\n",
      "Calculating d_hd\n",
      "Umap\n",
      "Calculating d_hd\n",
      "Umap\n",
      "Calculating d_hd\n",
      "Umap\n",
      "Plots saved successfully!\n",
      "Umap\n",
      "Calculating d_hd\n",
      "Trimap\n",
      "Calculating d_hd\n",
      "Trimap\n",
      "Calculating d_hd\n",
      "Trimap\n",
      "Calculating d_hd\n",
      "Trimap\n",
      "Plots saved successfully!\n",
      "Trimap\n",
      "Calculating d_hd\n",
      "Pacmap\n",
      "Calculating d_hd\n",
      "Pacmap\n",
      "Calculating d_hd\n",
      "Pacmap\n",
      "Calculating d_hd\n",
      "Pacmap\n",
      "Plots saved successfully!\n",
      "Pacmap\n",
      "emuerta0 dimm 3\n",
      "Finished.\n",
      "emuerta1 dimm 5\n",
      "Finished.\n",
      "emuerta2 dimm 10\n",
      "Finished.\n",
      "emuerta3 dimm 20\n",
      "Finished.\n",
      "ball_two_sphere\n",
      "Calculating d_hd\n",
      "TSNE\n"
     ]
    }
   ],
   "source": [
    "\n",
    "\n",
    "for figure_name, generate_figure in figure_dict.items():\n",
    "    print(figure_name)\n",
    "    for reduction_name, reduction_m in reduction_dict.items():\n",
    "\n",
    "        show_plot(reduction_m, generate_figure)  # Show plot function is not defined\n",
    "        print(reduction_name)\n",
    "\n",
    "    for i, e in enumerate(dimensions):\n",
    "        print(f\"emuerta{i} dimm {e}\")\n",
    "        #local_metrics_list[i].visualize(dimensions[i], figure_name)\n",
    "        local_metrics_list[i].visualize(f\"{figure_name} dimm {e}\")\n",
    "\n",
    "    local_metrics_list.clear()\n",
    "    for _ in enumerate(dimensions):\n",
    "        local_metrics_list.append(LocalMetric())\n"
   ],
   "metadata": {
    "collapsed": false,
    "is_executing": true,
    "ExecuteTime": {
     "start_time": "2023-07-01T07:36:20.267989600Z"
    }
   }
  }
 ],
 "metadata": {
  "kernelspec": {
   "display_name": "Python 3",
   "language": "python",
   "name": "python3"
  },
  "language_info": {
   "codemirror_mode": {
    "name": "ipython",
    "version": 2
   },
   "file_extension": ".py",
   "mimetype": "text/x-python",
   "name": "python",
   "nbconvert_exporter": "python",
   "pygments_lexer": "ipython2",
   "version": "2.7.6"
  }
 },
 "nbformat": 4,
 "nbformat_minor": 0
}
