{
 "cells": [
  {
   "cell_type": "code",
   "execution_count": null,
   "metadata": {
    "collapsed": true,
    "ExecuteTime": {
     "end_time": "2023-06-30T18:15:35.843190200Z",
     "start_time": "2023-06-30T18:15:35.378671300Z"
    }
   },
   "outputs": [],
   "source": [
    "import numpy as np\n",
    "import matplotlib.pyplot as plt"
   ]
  },
  {
   "cell_type": "code",
   "execution_count": null,
   "outputs": [],
   "source": [
    "def ball_points_generator(dim, N, radius):\n",
    "    # Generowanie macierzy zmiennych losowych o rozkładzie normalnym standardowym\n",
    "    xi = np.random.normal(size=(dim, N))\n",
    "\n",
    "    # obliczanie normy\n",
    "    norm = np.linalg.norm(xi, axis=0)\n",
    "\n",
    "    S = xi / norm\n",
    "    U = np.random.uniform(low=0.0, high=1.0, size=N)\n",
    "    S = S * np.power(U, 1/dim)\n",
    "    points = S * radius\n",
    "\n",
    "    # Transponowanie macierzy punktów\n",
    "    # points = scaled_xi.T\n",
    "\n",
    "    return points.T"
   ],
   "metadata": {
    "collapsed": false,
    "ExecuteTime": {
     "end_time": "2023-06-30T18:15:35.860197300Z",
     "start_time": "2023-06-30T18:15:35.847187500Z"
    }
   }
  },
  {
   "cell_type": "code",
   "execution_count": null,
   "outputs": [],
   "source": [
    "def sphere_points_generator(dim, N, radius):\n",
    "    # Generowanie macierzy zmiennych losowych o rozkładzie normalnym standardowym\n",
    "    xi = np.random.normal(size=(dim, N))\n",
    "\n",
    "    # Obliczanie sumy kwadratów zmiennych losowych dla każdego punktu\n",
    "    sum_of_squares = np.sum(xi**2, axis=0)\n",
    "\n",
    "    # Obliczanie wartości λ na podstawie żądanej wartości\n",
    "    lambda_squared = radius**2\n",
    "\n",
    "    # Skalowanie zmiennych losowych dla każdego punktu, aby uzyskać żądaną wartość λ\n",
    "    scaled_xi = xi * np.sqrt(lambda_squared / sum_of_squares)\n",
    "\n",
    "    # Transponowanie macierzy punktów\n",
    "    # unit_vectors = scaled_xi.T\n",
    "\n",
    "    # return unit_vecto\n",
    "    return scaled_xi.T"
   ],
   "metadata": {
    "collapsed": false,
    "ExecuteTime": {
     "end_time": "2023-06-30T18:15:35.885240600Z",
     "start_time": "2023-06-30T18:15:35.862192600Z"
    }
   }
  },
  {
   "cell_type": "code",
   "execution_count": null,
   "outputs": [],
   "source": [
    "def generate_n_dimensional_torus(n_dimensions, n_points, R=2, r=1):\n",
    "    \"\"\"\n",
    "    Creates an n-dimensional torus.\n",
    "\n",
    "    Parameters:\n",
    "    n_dimensions : int\n",
    "        The number of dimensions for the torus. Must be greater than or equal to 2.\n",
    "    n_points : int\n",
    "        The number of points.\n",
    "    R : float\n",
    "        The distance from the center of the tube to the center of the torus.\n",
    "    r : float\n",
    "        The radius of the tube (distance from the center of the tube to the torus surface).\n",
    "\n",
    "    Returns:\n",
    "    numpy.ndarray\n",
    "        The n-dimensional points of the torus.\n",
    "    \"\"\"\n",
    "\n",
    "    assert n_dimensions >= 2, \"Number of dimensions must be greater than or equal to 2.\"\n",
    "\n",
    "    # generate n_points random angles for each dimension\n",
    "    angles = np.random.uniform(0, 2*np.pi, (n_points, n_dimensions))\n",
    "\n",
    "    # calculate the n-dimensional points on the torus\n",
    "    coordinates = []\n",
    "    for i in range(n_dimensions):\n",
    "        if i == 0:\n",
    "            coordinate = (R + r * np.cos(angles[:, 1])) * np.cos(angles[:, 0])\n",
    "        elif i == 1:\n",
    "            coordinate = (R + r * np.cos(angles[:, 1])) * np.sin(angles[:, 0])\n",
    "        else:\n",
    "            coordinate = r * np.sin(angles[:, i])\n",
    "        coordinates.append(coordinate)\n",
    "\n",
    "    return np.array(coordinates).T"
   ],
   "metadata": {
    "collapsed": false,
    "ExecuteTime": {
     "end_time": "2023-06-30T18:15:35.901238600Z",
     "start_time": "2023-06-30T18:15:35.880234800Z"
    }
   }
  },
  {
   "cell_type": "code",
   "execution_count": null,
   "outputs": [],
   "source": [
    "from sklearn.manifold import TSNE\n",
    "from umap import UMAP\n",
    "from trimap import TRIMAP\n",
    "from pacmap import PaCMAP\n",
    "\n",
    "def TSNE_reduce(data):\n",
    "    tsne = TSNE()\n",
    "    return tsne.fit_transform(data)\n",
    "\n",
    "def Umap_reduce(data):\n",
    "    umap = UMAP()\n",
    "    return umap.fit_transform(data)\n",
    "\n",
    "def Trimap_reduce(data):\n",
    "    trimap = TRIMAP()\n",
    "    return trimap.fit_transform(data)\n",
    "\n",
    "def Pacmap_reduce(data):\n",
    "    pacmap = PaCMAP()\n",
    "    return pacmap.fit_transform(data)\n",
    "\n",
    "def IVHD_reduce(data):\n",
    "    ...\n",
    "\n",
    "def embeded_visualization(data, title):\n",
    "    # rozbicie punktów na współrzędne x, y, z\n",
    "    x = data[:, 0]\n",
    "    y = data[:, 1]\n",
    "\n",
    "    # wygenerowanie wykresu punktów\n",
    "    plt.scatter(x, y, c='green')\n",
    "\n",
    "    plt.title(f\"{title} Visualization\")\n",
    "    plt.xlabel(\"Dimension 1\")\n",
    "    plt.ylabel(\"Dimension 2\")\n",
    "\n",
    "def embeded_visualization_two_clases(data, N, title):\n",
    "    # rozbicie punktów na współrzędne x, y, z\n",
    "    x = data[:N, 0]\n",
    "    y = data[:N, 1]\n",
    "\n",
    "    x1 = data[N:2*N, 0]\n",
    "    y1 = data[N:2*N, 1]\n",
    "\n",
    "    # wygenerowanie wykresu punktów\n",
    "    plt.scatter(x, y, c='green')\n",
    "    plt.scatter(x1, y1, c='blue')\n",
    "\n",
    "    plt.title(f\"{title} Visualization\")\n",
    "    plt.xlabel(\"Dimension 1\")\n",
    "    plt.ylabel(\"Dimension 2\")\n",
    "\n",
    "def embeded_visualization_three_clases(data, N, title):\n",
    "    # rozbicie punktów na współrzędne x, y, z\n",
    "    x = data[:N, 0]\n",
    "    y = data[:N, 1]\n",
    "\n",
    "    x1 = data[N:2*N, 0]\n",
    "    y1 = data[N:2*N, 1]\n",
    "\n",
    "    x2 = data[2*N:, 0]\n",
    "    y2 = data[2*N:, 1]\n",
    "\n",
    "    # wygenerowanie wykresu punktów\n",
    "    plt.scatter(x, y, c='green')\n",
    "    plt.scatter(x1, y1, c='blue')\n",
    "    plt.scatter(x2, y2, c='red')\n",
    "\n",
    "    plt.title(f\"{title} Visualization\")\n",
    "    plt.xlabel(\"Dimension 1\")\n",
    "    plt.ylabel(\"Dimension 2\")"
   ],
   "metadata": {
    "collapsed": false,
    "ExecuteTime": {
     "end_time": "2023-06-30T18:15:50.495900200Z",
     "start_time": "2023-06-30T18:15:35.899237900Z"
    }
   }
  },
  {
   "cell_type": "code",
   "execution_count": null,
   "outputs": [],
   "source": [
    "from local_score import LocalMetric"
   ],
   "metadata": {
    "collapsed": false,
    "ExecuteTime": {
     "end_time": "2023-06-30T19:31:25.381959600Z",
     "start_time": "2023-06-30T19:31:25.358958100Z"
    }
   }
  },
  {
   "cell_type": "code",
   "execution_count": null,
   "outputs": [],
   "source": [
    "# sphere and torus inside\n",
    "sphere_points = sphere_points_generator(3, 100, 10)\n",
    "torus_points = generate_n_dimensional_torus(3, 100, 4)\n",
    "data = np.concatenate((sphere_points, torus_points))"
   ],
   "metadata": {
    "collapsed": false,
    "ExecuteTime": {
     "end_time": "2023-06-30T19:31:43.464722Z",
     "start_time": "2023-06-30T19:31:43.439188Z"
    }
   }
  },
  {
   "cell_type": "markdown",
   "source": [
    "t-SNE"
   ],
   "metadata": {
    "collapsed": false
   }
  },
  {
   "cell_type": "code",
   "execution_count": null,
   "outputs": [],
   "source": [
    "local_metrics = LocalMetric()\n",
    "perplexity_list = [2, 5, 10, 20, 30, 40, 50, 80, 100] # 30 -> standard in TSNE\n",
    "\n",
    "# to local metric\n",
    "x = data\n",
    "array_zer = np.zeros(100)\n",
    "array_jed = np.ones(100)\n",
    "y = np.concatenate((array_zer, array_jed))\n",
    "\n",
    "reduced_his = []  # Lista do przechowywania wykresów\n",
    "\n",
    "for p in perplexity_list:\n",
    "    tsne = TSNE(n_components=2, perplexity=p)\n",
    "    reduced_tsne = tsne.fit_transform(data)\n",
    "    reduced_his.append(reduced_tsne)"
   ],
   "metadata": {
    "collapsed": false,
    "ExecuteTime": {
     "end_time": "2023-06-30T19:31:46.477924200Z",
     "start_time": "2023-06-30T19:31:44.752611800Z"
    }
   }
  },
  {
   "cell_type": "code",
   "execution_count": null,
   "outputs": [],
   "source": [
    "local_metrics = LocalMetric()\n",
    "for i in range(3):\n",
    "    if i != 1 and i != 3:\n",
    "        local_metrics.calculate_knn_gain_and_dr_quality(\n",
    "                X_lds=reduced_his[i],\n",
    "                X_hds=x,\n",
    "                labels=np.array(y),\n",
    "                method_name=f\"tsne (per = {perplexity_list[i]})\")\n",
    "        print(np.array(y))\n",
    "local_metrics.visualize()"
   ],
   "metadata": {
    "collapsed": false,
    "ExecuteTime": {
     "end_time": "2023-06-30T19:32:02.275526500Z",
     "start_time": "2023-06-30T19:32:00.536530400Z"
    }
   }
  },
  {
   "cell_type": "code",
   "execution_count": null,
   "outputs": [],
   "source": [
    "num_rows = 3\n",
    "num_cols = 3\n",
    "fig, axes = plt.subplots(num_rows, num_cols, figsize=(25, 20))\n",
    "\n",
    "counter = 0\n",
    "for i in range(num_rows):\n",
    "    for j in range(num_cols):\n",
    "        ax = axes[i, j]  # Wybór odpowiedniej osi\n",
    "        plt.sca(ax)  # Ustawienie bieżącej osi\n",
    "        embeded_visualization_two_clases(reduced_his[counter], 10000, f\"t-sne (per = {perplexity_list[counter]})\")\n",
    "        counter += 1\n",
    "\n",
    "plt.tight_layout()\n",
    "plt.savefig('plots/tsne_perplexity.png')\n",
    "plt.show()"
   ],
   "metadata": {
    "collapsed": false,
    "ExecuteTime": {
     "end_time": "2023-06-30T18:25:06.597810500Z",
     "start_time": "2023-06-30T18:25:01.501060300Z"
    }
   }
  },
  {
   "cell_type": "markdown",
   "source": [
    "UMAP"
   ],
   "metadata": {
    "collapsed": false
   }
  },
  {
   "cell_type": "code",
   "execution_count": null,
   "outputs": [],
   "source": [
    "n_neighbours_list = [2, 5, 10, 20, 30, 40, 50, 80, 100] # 15 -> standard in UMAP\n",
    "# to local metrix\n",
    "x = data\n",
    "array_zer = np.zeros(10000)\n",
    "array_jed = np.ones(10000)\n",
    "y = np.concatenate((array_zer, array_jed))\n",
    "\n",
    "reduced_his = []\n",
    "for p in n_neighbours_list:\n",
    "    # for m in min_dist_list:\n",
    "    umap = UMAP(n_components=2, n_neighbors=p)\n",
    "    reduced = umap.fit_transform(data)\n",
    "    reduced_his.append(reduced)"
   ],
   "metadata": {
    "collapsed": false
   }
  },
  {
   "cell_type": "code",
   "execution_count": null,
   "outputs": [],
   "source": [
    "local_metrics2 = LocalMetric()\n",
    "for i in range(9):\n",
    "    if i != 1 and i != 3:\n",
    "        local_metrics2.calculate_knn_gain_and_dr_quality(\n",
    "                X_lds=reduced_his[i],\n",
    "                X_hds=x,\n",
    "                labels=np.array(y),\n",
    "                method_name=f\"Umap (n = {n_neighbours_list[i]})\")\n",
    "local_metrics2.visualize()"
   ],
   "metadata": {
    "collapsed": false
   }
  },
  {
   "cell_type": "code",
   "execution_count": null,
   "outputs": [],
   "source": [
    "num_rows = 3\n",
    "num_cols = 3\n",
    "fig, axes = plt.subplots(num_rows, num_cols, figsize=(25, 20))\n",
    "\n",
    "counter = 0\n",
    "for i in range(num_rows):\n",
    "    for j in range(num_cols):\n",
    "        ax = axes[i, j]  # Wybór odpowiedniej osi\n",
    "        plt.sca(ax)  # Ustawienie bieżącej osi\n",
    "        embeded_visualization_two_clases(reduced_his[counter], 10000, f\"Umap (n = {n_neighbours_list[counter]})\")\n",
    "        counter += 1\n",
    "\n",
    "plt.tight_layout()\n",
    "plt.savefig('plots/umap_perplexity.png')\n",
    "plt.show()"
   ],
   "metadata": {
    "collapsed": false
   }
  },
  {
   "cell_type": "markdown",
   "source": [
    "TriMAP"
   ],
   "metadata": {
    "collapsed": false
   }
  },
  {
   "cell_type": "code",
   "execution_count": null,
   "outputs": [],
   "source": [
    "n_neighbours_list = [2, 5, 10, 20, 30, 40, 50, 80, 100] # 12 -> standard in Trimap\n",
    "# to local metrix\n",
    "x = data\n",
    "array_zer = np.zeros(10000)\n",
    "array_jed = np.ones(10000)\n",
    "y = np.concatenate((array_zer, array_jed))\n",
    "\n",
    "reduced_his = []\n",
    "for p in n_neighbours_list:\n",
    "    trimap = TRIMAP(n_dims=2, n_inliers=p)\n",
    "    reduced = trimap.fit_transform(data)\n",
    "    reduced_his.append(reduced)"
   ],
   "metadata": {
    "collapsed": false
   }
  },
  {
   "cell_type": "code",
   "execution_count": null,
   "outputs": [],
   "source": [
    "local_metrics3 = LocalMetric()\n",
    "for i in range(9):\n",
    "    if i != 1 and i != 3:\n",
    "        local_metrics3.calculate_knn_gain_and_dr_quality(\n",
    "                X_lds=reduced_his[i],\n",
    "                X_hds=x,\n",
    "                labels=np.array(y),\n",
    "                method_name=f\"Trimap (n = {n_neighbours_list[i]})\")\n",
    "local_metrics3.visualize()"
   ],
   "metadata": {
    "collapsed": false
   }
  },
  {
   "cell_type": "code",
   "execution_count": null,
   "outputs": [],
   "source": [
    "num_rows = 3\n",
    "num_cols = 3\n",
    "fig, axes = plt.subplots(num_rows, num_cols, figsize=(25, 20))\n",
    "\n",
    "counter = 0\n",
    "for i in range(num_rows):\n",
    "    for j in range(num_cols):\n",
    "        ax = axes[i, j]  # Wybór odpowiedniej osi\n",
    "        plt.sca(ax)  # Ustawienie bieżącej osi\n",
    "        embeded_visualization_two_clases(reduced_his[counter], 10000, f\"Trimap (n = {n_neighbours_list[counter]})\")\n",
    "        counter += 1\n",
    "\n",
    "plt.tight_layout()\n",
    "plt.savefig('plots/trimap_perplexity.png')\n",
    "plt.show()"
   ],
   "metadata": {
    "collapsed": false
   }
  },
  {
   "cell_type": "markdown",
   "source": [
    "PacMAP"
   ],
   "metadata": {
    "collapsed": false
   }
  },
  {
   "cell_type": "code",
   "execution_count": null,
   "outputs": [],
   "source": [
    "n_neighbours_list = [2, 5, 10, 20, 30, 40, 50, 80, 100] # 10 -> standard in PacMAP\n",
    "# to local metrix\n",
    "x = data\n",
    "array_zer = np.zeros(10000)\n",
    "array_jed = np.ones(10000)\n",
    "y = np.concatenate((array_zer, array_jed))\n",
    "reduced_his = []\n",
    "\n",
    "for p in n_neighbours_list:\n",
    "    trimap = PaCMAP(n_components=2, n_neighbors=p)\n",
    "    reduced = trimap.fit_transform(data)\n",
    "    reduced_his.append(reduced)"
   ],
   "metadata": {
    "collapsed": false
   }
  },
  {
   "cell_type": "code",
   "execution_count": null,
   "outputs": [],
   "source": [
    "local_metrics4 = LocalMetric()\n",
    "for i in range(9):\n",
    "    if i != 1 and i != 3:\n",
    "        local_metrics4.calculate_knn_gain_and_dr_quality(\n",
    "                X_lds=reduced_his[i],\n",
    "                X_hds=x,\n",
    "                labels=np.array(y),\n",
    "                method_name=f\"Pacmap (n = {n_neighbours_list[i]})\")\n",
    "local_metrics4.visualize()"
   ],
   "metadata": {
    "collapsed": false
   }
  },
  {
   "cell_type": "code",
   "execution_count": null,
   "outputs": [],
   "source": [
    "num_rows = 3\n",
    "num_cols = 3\n",
    "fig, axes = plt.subplots(num_rows, num_cols, figsize=(25, 20))\n",
    "\n",
    "counter = 0\n",
    "for i in range(num_rows):\n",
    "    for j in range(num_cols):\n",
    "        ax = axes[i, j]  # Wybór odpowiedniej osi\n",
    "        plt.sca(ax)  # Ustawienie bieżącej osi\n",
    "        embeded_visualization_two_clases(reduced_his[counter], 10000, f\"PacMAP (n = {n_neighbours_list[counter]})\")\n",
    "        counter += 1\n",
    "\n",
    "plt.tight_layout()\n",
    "plt.savefig('plots/pacmap_perplexity.png')\n",
    "plt.show()"
   ],
   "metadata": {
    "collapsed": false
   }
  },
  {
   "cell_type": "markdown",
   "source": [
    "# Sphere and ball inside"
   ],
   "metadata": {
    "collapsed": false
   }
  },
  {
   "cell_type": "code",
   "execution_count": null,
   "outputs": [],
   "source": [
    "# sphere and torus inside\n",
    "sphere_points = sphere_points_generator(3, 10000, 7)\n",
    "ball_points = ball_points_generator(3, 10000, 2)\n",
    "data = np.concatenate((sphere_points, ball_points))"
   ],
   "metadata": {
    "collapsed": false
   }
  },
  {
   "cell_type": "markdown",
   "source": [
    "t-SNE"
   ],
   "metadata": {
    "collapsed": false
   }
  },
  {
   "cell_type": "code",
   "execution_count": null,
   "outputs": [],
   "source": [
    "local_metrics = LocalMetric()\n",
    "perplexity_list = [2, 5, 10, 20, 30, 40, 50, 80, 100]  # 30 -> standard in TSNE\n",
    "\n",
    "# to local metric\n",
    "x = data\n",
    "array_zer = np.zeros(10000)\n",
    "array_jed = np.ones(10000)\n",
    "y = np.concatenate((array_zer, array_jed))\n",
    "\n",
    "reduced_his = []  # Lista do przechowywania wykresów\n",
    "\n",
    "for p in perplexity_list:\n",
    "    tsne = TSNE(n_components=2, perplexity=p)\n",
    "    reduced_tsne = tsne.fit_transform(data)\n",
    "    reduced_his.append(reduced_tsne)"
   ],
   "metadata": {
    "collapsed": false
   }
  },
  {
   "cell_type": "code",
   "execution_count": null,
   "outputs": [],
   "source": [
    "local_metrics = LocalMetric()\n",
    "for i in range(9):\n",
    "    if i != 1 and i != 3:\n",
    "        local_metrics.calculate_knn_gain_and_dr_quality(\n",
    "            X_lds=reduced_his[i],\n",
    "            X_hds=x,\n",
    "            labels=np.array(y),\n",
    "            method_name=f\"tsne (per = {perplexity_list[i]})\")\n",
    "local_metrics.visualize()"
   ],
   "metadata": {
    "collapsed": false
   }
  },
  {
   "cell_type": "code",
   "execution_count": null,
   "outputs": [],
   "source": [
    "num_rows = 3\n",
    "num_cols = 3\n",
    "fig, axes = plt.subplots(num_rows, num_cols, figsize=(25, 20))\n",
    "\n",
    "counter = 0\n",
    "for i in range(num_rows):\n",
    "    for j in range(num_cols):\n",
    "        ax = axes[i, j]  # Wybór odpowiedniej osi\n",
    "        plt.sca(ax)  # Ustawienie bieżącej osi\n",
    "        embeded_visualization_two_clases(reduced_his[counter], 10000, f\"t-sne (per = {perplexity_list[counter]})\")\n",
    "        counter += 1\n",
    "\n",
    "plt.tight_layout()\n",
    "plt.savefig('plots/tsne_perplexity_1_sphere_1_ball.png')\n",
    "plt.show()"
   ],
   "metadata": {
    "collapsed": false
   }
  },
  {
   "cell_type": "markdown",
   "source": [
    "UMAP"
   ],
   "metadata": {
    "collapsed": false
   }
  },
  {
   "cell_type": "code",
   "execution_count": null,
   "outputs": [],
   "source": [
    "n_neighbours_list = [2, 5, 10, 20, 30, 40, 50, 80, 100] # 15 -> standard in UMAP\n",
    "# to local metrix\n",
    "x = data\n",
    "array_zer = np.zeros(10000)\n",
    "array_jed = np.ones(10000)\n",
    "y = np.concatenate((array_zer, array_jed))\n",
    "\n",
    "reduced_his = []\n",
    "for p in n_neighbours_list:\n",
    "    # for m in min_dist_list:\n",
    "    umap = UMAP(n_components=2, n_neighbors=p)\n",
    "    reduced = umap.fit_transform(data)\n",
    "    reduced_his.append(reduced)"
   ],
   "metadata": {
    "collapsed": false
   }
  },
  {
   "cell_type": "code",
   "execution_count": null,
   "outputs": [],
   "source": [
    "local_metrics2 = LocalMetric()\n",
    "for i in range(9):\n",
    "    if i != 1 and i != 3:\n",
    "        local_metrics2.calculate_knn_gain_and_dr_quality(\n",
    "                X_lds=reduced_his[i],\n",
    "                X_hds=x,\n",
    "                labels=np.array(y),\n",
    "                method_name=f\"Umap (n = {n_neighbours_list[i]})\")\n",
    "local_metrics2.visualize()"
   ],
   "metadata": {
    "collapsed": false
   }
  },
  {
   "cell_type": "code",
   "execution_count": null,
   "outputs": [],
   "source": [
    "num_rows = 3\n",
    "num_cols = 3\n",
    "fig, axes = plt.subplots(num_rows, num_cols, figsize=(25, 20))\n",
    "\n",
    "counter = 0\n",
    "for i in range(num_rows):\n",
    "    for j in range(num_cols):\n",
    "        ax = axes[i, j]  # Wybór odpowiedniej osi\n",
    "        plt.sca(ax)  # Ustawienie bieżącej osi\n",
    "        embeded_visualization_two_clases(reduced_his[counter], 10000, f\"Umap (n = {n_neighbours_list[counter]})\")\n",
    "        counter += 1\n",
    "\n",
    "plt.tight_layout()\n",
    "plt.savefig('plots/umap_perplexity_1_sphere_1_ball.png')\n",
    "plt.show()"
   ],
   "metadata": {
    "collapsed": false
   }
  },
  {
   "cell_type": "markdown",
   "source": [
    "TriMAP"
   ],
   "metadata": {
    "collapsed": false
   }
  },
  {
   "cell_type": "code",
   "execution_count": null,
   "outputs": [],
   "source": [
    "n_neighbours_list = [2, 5, 10, 20, 30, 40, 50, 80, 100]  # 12 -> standard in Trimap\n",
    "# to local metrix\n",
    "x = data\n",
    "array_zer = np.zeros(10000)\n",
    "array_jed = np.ones(10000)\n",
    "y = np.concatenate((array_zer, array_jed))\n",
    "\n",
    "reduced_his = []\n",
    "for p in n_neighbours_list:\n",
    "    trimap = TRIMAP(n_dims=2, n_inliers=p)\n",
    "    reduced = trimap.fit_transform(data)\n",
    "    reduced_his.append(reduced)"
   ],
   "metadata": {
    "collapsed": false
   }
  },
  {
   "cell_type": "code",
   "execution_count": null,
   "outputs": [],
   "source": [
    "local_metrics3 = LocalMetric()\n",
    "for i in range(9):\n",
    "    if i != 1 and i != 3:\n",
    "        local_metrics3.calculate_knn_gain_and_dr_quality(\n",
    "            X_lds=reduced_his[i],\n",
    "            X_hds=x,\n",
    "            labels=np.array(y),\n",
    "            method_name=f\"Trimap (n = {n_neighbours_list[i]})\")\n",
    "local_metrics3.visualize()"
   ],
   "metadata": {
    "collapsed": false
   }
  },
  {
   "cell_type": "code",
   "execution_count": null,
   "outputs": [],
   "source": [
    "num_rows = 3\n",
    "num_cols = 3\n",
    "fig, axes = plt.subplots(num_rows, num_cols, figsize=(25, 20))\n",
    "\n",
    "counter = 0\n",
    "for i in range(num_rows):\n",
    "    for j in range(num_cols):\n",
    "        ax = axes[i, j]  # Wybór odpowiedniej osi\n",
    "        plt.sca(ax)  # Ustawienie bieżącej osi\n",
    "        embeded_visualization_two_clases(reduced_his[counter], 10000, f\"Trimap (n = {n_neighbours_list[counter]})\")\n",
    "        counter += 1\n",
    "\n",
    "plt.tight_layout()\n",
    "plt.savefig('plots/trimap_perplexity_1_sphere_1_ball.png')\n",
    "plt.show()"
   ],
   "metadata": {
    "collapsed": false
   }
  },
  {
   "cell_type": "markdown",
   "source": [
    "PacMAM\n"
   ],
   "metadata": {
    "collapsed": false
   }
  },
  {
   "cell_type": "code",
   "execution_count": null,
   "outputs": [],
   "source": [
    "n_neighbours_list = [2, 5, 10, 20, 30, 40, 50, 80, 100]  # 10 -> standard in PacMAP\n",
    "# to local metrix\n",
    "x = data\n",
    "array_zer = np.zeros(10000)\n",
    "array_jed = np.ones(10000)\n",
    "y = np.concatenate((array_zer, array_jed))\n",
    "reduced_his = []\n",
    "\n",
    "for p in n_neighbours_list:\n",
    "    trimap = PaCMAP(n_components=2, n_neighbors=p)\n",
    "    reduced = trimap.fit_transform(data)\n",
    "    reduced_his.append(reduced)"
   ],
   "metadata": {
    "collapsed": false
   }
  },
  {
   "cell_type": "code",
   "execution_count": null,
   "outputs": [],
   "source": [
    "local_metrics4 = LocalMetric()\n",
    "for i in range(9):\n",
    "    if i != 1 and i != 3:\n",
    "        local_metrics4.calculate_knn_gain_and_dr_quality(\n",
    "            X_lds=reduced_his[i],\n",
    "            X_hds=x,\n",
    "            labels=np.array(y),\n",
    "            method_name=f\"Pacmap (n = {n_neighbours_list[i]})\")\n",
    "local_metrics4.visualize()"
   ],
   "metadata": {
    "collapsed": false
   }
  },
  {
   "cell_type": "markdown",
   "source": [
    "# Two sphere and ball inside"
   ],
   "metadata": {
    "collapsed": false
   }
  },
  {
   "cell_type": "code",
   "execution_count": null,
   "outputs": [],
   "source": [
    "sphere_points = sphere_points_generator(3, 10000, 7)\n",
    "sphere_points2 = sphere_points_generator(3, 10000, 10)\n",
    "ball_points = ball_points_generator(3, 10000, 2)\n",
    "data = np.concatenate((sphere_points, sphere_points2, ball_points))"
   ],
   "metadata": {
    "collapsed": false
   }
  },
  {
   "cell_type": "markdown",
   "source": [
    "t-SNE"
   ],
   "metadata": {
    "collapsed": false
   }
  },
  {
   "cell_type": "code",
   "execution_count": null,
   "outputs": [],
   "source": [
    "local_metrics = LocalMetric()\n",
    "perplexity_list = [2, 5, 10, 20, 30, 40, 50, 80, 100]  # 30 -> standard in TSNE\n",
    "\n",
    "# to local metric\n",
    "x = data\n",
    "array_zer = np.zeros(10000)\n",
    "array_jed = np.ones(10000)\n",
    "array_dwa = np.full(10000, 2)\n",
    "y = np.concatenate((array_zer, array_jed, array_dwa))\n",
    "\n",
    "reduced_his = []  # Lista do przechowywania wykresów\n",
    "\n",
    "for p in perplexity_list:\n",
    "    tsne = TSNE(n_components=2, perplexity=p)\n",
    "    reduced_tsne = tsne.fit_transform(data)\n",
    "    reduced_his.append(reduced_tsne)"
   ],
   "metadata": {
    "collapsed": false
   }
  },
  {
   "cell_type": "code",
   "execution_count": null,
   "outputs": [],
   "source": [
    "local_metrics = LocalMetric()\n",
    "for i in range(9):\n",
    "    if i != 1 and i != 3:\n",
    "        local_metrics.calculate_knn_gain_and_dr_quality(\n",
    "            X_lds=reduced_his[i],\n",
    "            X_hds=x,\n",
    "            labels=np.array(y),\n",
    "            method_name=f\"tsne (per = {perplexity_list[i]})\")\n",
    "local_metrics.visualize()"
   ],
   "metadata": {
    "collapsed": false
   }
  },
  {
   "cell_type": "code",
   "execution_count": null,
   "outputs": [],
   "source": [
    "num_rows = 3\n",
    "num_cols = 3\n",
    "fig, axes = plt.subplots(num_rows, num_cols, figsize=(25, 20))\n",
    "\n",
    "counter = 0\n",
    "for i in range(num_rows):\n",
    "    for j in range(num_cols):\n",
    "        ax = axes[i, j]  # Wybór odpowiedniej osi\n",
    "        plt.sca(ax)  # Ustawienie bieżącej osi\n",
    "        embeded_visualization_three_clases(reduced_his[counter], 10000, f\"t-sne (per = {perplexity_list[counter]})\")\n",
    "        counter += 1\n",
    "\n",
    "plt.tight_layout()\n",
    "plt.savefig('plots/tsne_perplexity_2_sphere_1_ball.png')\n",
    "plt.show()"
   ],
   "metadata": {
    "collapsed": false
   }
  },
  {
   "cell_type": "markdown",
   "source": [
    "UMAP"
   ],
   "metadata": {
    "collapsed": false
   }
  },
  {
   "cell_type": "code",
   "execution_count": null,
   "outputs": [],
   "source": [
    "n_neighbours_list = [2, 5, 10, 20, 30, 40, 50, 80, 100]  # 15 -> standard in UMAP\n",
    "# to local metrix\n",
    "x = data\n",
    "array_zer = np.zeros(10000)\n",
    "array_jed = np.ones(10000)\n",
    "array_dwa = np.full(10000, 2)\n",
    "y = np.concatenate((array_zer, array_jed, array_dwa))\n",
    "\n",
    "reduced_his = []\n",
    "for p in n_neighbours_list:\n",
    "    # for m in min_dist_list:\n",
    "    umap = UMAP(n_components=2, n_neighbors=p)\n",
    "    reduced = umap.fit_transform(data)\n",
    "    reduced_his.append(reduced)\n",
    "local_metrics2 = LocalMetric()\n",
    "for i in range(9):\n",
    "    if i != 1 and i != 3:\n",
    "        local_metrics2.calculate_knn_gain_and_dr_quality(\n",
    "            X_lds=reduced_his[i],\n",
    "            X_hds=x,\n",
    "            labels=np.array(y),\n",
    "            method_name=f\"Umap (n = {n_neighbours_list[i]})\")\n",
    "local_metrics2.visualize()"
   ],
   "metadata": {
    "collapsed": false
   }
  },
  {
   "cell_type": "code",
   "execution_count": null,
   "outputs": [],
   "source": [
    "num_rows = 3\n",
    "num_cols = 3\n",
    "fig, axes = plt.subplots(num_rows, num_cols, figsize=(25, 20))\n",
    "\n",
    "counter = 0\n",
    "for i in range(num_rows):\n",
    "    for j in range(num_cols):\n",
    "        ax = axes[i, j]  # Wybór odpowiedniej osi\n",
    "        plt.sca(ax)  # Ustawienie bieżącej osi\n",
    "        embeded_visualization_three_clases(reduced_his[counter], 10000, f\"Umap (n = {n_neighbours_list[counter]})\")\n",
    "        counter += 1\n",
    "\n",
    "plt.tight_layout()\n",
    "plt.savefig('plots/umap_perplexity_2_sphere_1_ball.png')\n",
    "plt.show()"
   ],
   "metadata": {
    "collapsed": false
   }
  },
  {
   "cell_type": "markdown",
   "source": [
    "Trimap"
   ],
   "metadata": {
    "collapsed": false
   }
  },
  {
   "cell_type": "code",
   "execution_count": null,
   "outputs": [],
   "source": [
    "n_neighbours_list = [2, 5, 10, 20, 30, 40, 50, 80, 100]  # 12 -> standard in Trimap\n",
    "# to local metrix\n",
    "x = data\n",
    "array_zer = np.zeros(10000)\n",
    "array_jed = np.ones(10000)\n",
    "array_dwa = np.full(10000, 2)\n",
    "y = np.concatenate((array_zer, array_jed, array_dwa))\n",
    "\n",
    "reduced_his = []\n",
    "for p in n_neighbours_list:\n",
    "    trimap = TRIMAP(n_dims=2, n_inliers=p)\n",
    "    reduced = trimap.fit_transform(data)\n",
    "    reduced_his.append(reduced)\n",
    "local_metrics3 = LocalMetric()\n",
    "for i in range(9):\n",
    "    if i != 1 and i != 3:\n",
    "        local_metrics3.calculate_knn_gain_and_dr_quality(\n",
    "            X_lds=reduced_his[i],\n",
    "            X_hds=x,\n",
    "            labels=np.array(y),\n",
    "            method_name=f\"Trimap (n = {n_neighbours_list[i]})\")\n",
    "local_metrics3.visualize()\n",
    "num_rows = 3\n",
    "num_cols = 3\n",
    "fig, axes = plt.subplots(num_rows, num_cols, figsize=(25, 20))\n",
    "\n",
    "counter = 0\n",
    "for i in range(num_rows):\n",
    "    for j in range(num_cols):\n",
    "        ax = axes[i, j]  # Wybór odpowiedniej osi\n",
    "        plt.sca(ax)  # Ustawienie bieżącej osi\n",
    "        embeded_visualization_three_clases(reduced_his[counter], 10000, f\"Trimap (n = {n_neighbours_list[counter]})\")\n",
    "        counter += 1\n",
    "\n",
    "plt.tight_layout()\n",
    "plt.savefig('plots/trimap_perplexity_2_sphere_1_ball.png')\n",
    "plt.show()"
   ],
   "metadata": {
    "collapsed": false
   }
  },
  {
   "cell_type": "markdown",
   "source": [
    "PACMAP"
   ],
   "metadata": {
    "collapsed": false
   }
  },
  {
   "cell_type": "code",
   "execution_count": null,
   "outputs": [],
   "source": [
    "n_neighbours_list = [2, 5, 10, 20, 30, 40, 50, 80, 100]  # 10 -> standard in PacMAP\n",
    "# to local metrix\n",
    "x = data\n",
    "array_zer = np.zeros(10000)\n",
    "array_jed = np.ones(10000)\n",
    "array_dwa = np.full(10000, 2)\n",
    "y = np.concatenate((array_zer, array_jed, array_dwa))\n",
    "reduced_his = []\n",
    "\n",
    "for p in n_neighbours_list:\n",
    "    trimap = PaCMAP(n_components=2, n_neighbors=p)\n",
    "    reduced = trimap.fit_transform(data)\n",
    "    reduced_his.append(reduced)\n",
    "local_metrics4 = LocalMetric()\n",
    "for i in range(9):\n",
    "    if i != 1 and i != 3:\n",
    "        local_metrics4.calculate_knn_gain_and_dr_quality(\n",
    "            X_lds=reduced_his[i],\n",
    "            X_hds=x,\n",
    "            labels=np.array(y),\n",
    "            method_name=f\"Pacmap (n = {n_neighbours_list[i]})\")\n",
    "local_metrics4.visualize()\n",
    "\n",
    "num_rows = 3\n",
    "num_cols = 3\n",
    "fig, axes = plt.subplots(num_rows, num_cols, figsize=(25, 20))\n",
    "\n",
    "counter = 0\n",
    "for i in range(num_rows):\n",
    "    for j in range(num_cols):\n",
    "        ax = axes[i, j]  # Wybór odpowiedniej osi\n",
    "        plt.sca(ax)  # Ustawienie bieżącej osi\n",
    "        embeded_visualization_three_clases(reduced_his[counter], 10000, f\"PacMAP (n = {n_neighbours_list[counter]})\")\n",
    "        counter += 1\n",
    "\n",
    "plt.tight_layout()\n",
    "plt.savefig('plots/pacmap_perplexity_2_sphere_1_ball.png')\n",
    "plt.show()"
   ],
   "metadata": {
    "collapsed": false
   }
  },
  {
   "cell_type": "code",
   "execution_count": null,
   "outputs": [],
   "source": [],
   "metadata": {
    "collapsed": false
   }
  }
 ],
 "metadata": {
  "kernelspec": {
   "display_name": "Python 3",
   "language": "python",
   "name": "python3"
  },
  "language_info": {
   "codemirror_mode": {
    "name": "ipython",
    "version": 2
   },
   "file_extension": ".py",
   "mimetype": "text/x-python",
   "name": "python",
   "nbconvert_exporter": "python",
   "pygments_lexer": "ipython2",
   "version": "2.7.6"
  }
 },
 "nbformat": 4,
 "nbformat_minor": 0
}
