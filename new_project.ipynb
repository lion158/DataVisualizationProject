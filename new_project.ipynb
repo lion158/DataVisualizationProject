{
 "cells": [
  {
   "cell_type": "code",
   "execution_count": 11,
   "outputs": [],
   "source": [
    "import matplotlib.pyplot as plt\n",
    "import numpy as np\n",
    "from sklearn.manifold import TSNE\n",
    "from umap import UMAP\n",
    "from trimap import TRIMAP\n",
    "from pacmap import PaCMAP"
   ],
   "metadata": {
    "collapsed": false,
    "ExecuteTime": {
     "end_time": "2023-06-29T14:59:20.392439200Z",
     "start_time": "2023-06-29T14:59:20.362432400Z"
    }
   }
  },
  {
   "cell_type": "code",
   "execution_count": 11,
   "outputs": [],
   "source": [],
   "metadata": {
    "collapsed": false,
    "ExecuteTime": {
     "end_time": "2023-06-29T14:59:20.521468Z",
     "start_time": "2023-06-29T14:59:20.369436600Z"
    }
   }
  },
  {
   "cell_type": "markdown",
   "source": [
    "generowanie fig - to będzie do zmiany"
   ],
   "metadata": {
    "collapsed": false
   }
  },
  {
   "cell_type": "code",
   "execution_count": 12,
   "outputs": [],
   "source": [
    "\n",
    "## kod pożyczony\n",
    "# (można sprawdzić, czy napewno dobry w wielu wymiarach)\n",
    "# torus\n",
    "def generate_n_dimensional_torus(n_dimensions, n_points, R=2, r=1):\n",
    "    \"\"\"\n",
    "    Creates an n-dimensional torus.\n",
    "\n",
    "    Parameters:\n",
    "    n_dimensions : int\n",
    "        The number of dimensions for the torus. Must be greater than or equal to 2.\n",
    "    n_points : int\n",
    "        The number of points.\n",
    "    R : float\n",
    "        The distance from the center of the tube to the center of the torus.\n",
    "    r : float\n",
    "        The radius of the tube (distance from the center of the tube to the torus surface).\n",
    "\n",
    "    Returns:\n",
    "    numpy.ndarray\n",
    "        The n-dimensional points of the torus.\n",
    "    \"\"\"\n",
    "\n",
    "    assert n_dimensions >= 2, \"Number of dimensions must be greater than or equal to 2.\"\n",
    "\n",
    "    # generate n_points random angles for each dimension\n",
    "    angles = np.random.uniform(0, 2*np.pi, (n_points, n_dimensions))\n",
    "\n",
    "    # calculate the n-dimensional points on the torus\n",
    "    coordinates = []\n",
    "    for i in range(n_dimensions):\n",
    "        if i == 0:\n",
    "            coordinate = (R + r * np.cos(angles[:, 1])) * np.cos(angles[:, 0])\n",
    "        elif i == 1:\n",
    "            coordinate = (R + r * np.cos(angles[:, 1])) * np.sin(angles[:, 0])\n",
    "        else:\n",
    "            coordinate = r * np.sin(angles[:, i])\n",
    "        coordinates.append(coordinate)\n",
    "\n",
    "    return np.array(coordinates).T\n",
    "\n",
    "#https://blogs.sas.com/content/iml/2016/04/06/generate-points-uniformly-in-ball.html\n",
    "def ball_points_generator(dim, N, radius):\n",
    "    # Generowanie macierzy zmiennych losowych o rozkładzie normalnym standardowym\n",
    "    xi = np.random.normal(size=(dim, N))\n",
    "\n",
    "    # obliczanie normy\n",
    "    norm = np.linalg.norm(xi, axis=0)\n",
    "\n",
    "    S = xi / norm\n",
    "    U = np.random.uniform(low=0.0, high=1.0, size=N)\n",
    "    S = S * np.power(U, 1/dim)\n",
    "    points = S * radius\n",
    "\n",
    "    # Transponowanie macierzy punktów\n",
    "    # points = scaled_xi.T\n",
    "\n",
    "    return points.T\n",
    "\n",
    "def sphere_points_generator(dim, N, radius):\n",
    "    # Generowanie macierzy zmiennych losowych o rozkładzie normalnym standardowym\n",
    "    xi = np.random.normal(size=(dim, N))\n",
    "\n",
    "    # Obliczanie sumy kwadratów zmiennych losowych dla każdego punktu\n",
    "    sum_of_squares = np.sum(xi**2, axis=0)\n",
    "\n",
    "    # Obliczanie wartości λ na podstawie żądanej wartości\n",
    "    lambda_squared = radius**2\n",
    "\n",
    "    # Skalowanie zmiennych losowych dla każdego punktu, aby uzyskać żądaną wartość λ\n",
    "    scaled_xi = xi * np.sqrt(lambda_squared / sum_of_squares)\n",
    "\n",
    "    # Transponowanie macierzy punktów\n",
    "    # unit_vectors = scaled_xi.T\n",
    "\n",
    "    # return unit_vecto\n",
    "    return scaled_xi.T"
   ],
   "metadata": {
    "collapsed": false,
    "ExecuteTime": {
     "end_time": "2023-06-29T14:59:20.553475900Z",
     "start_time": "2023-06-29T14:59:20.391438800Z"
    }
   }
  },
  {
   "cell_type": "markdown",
   "source": [
    "redukcja wymiarowości"
   ],
   "metadata": {
    "collapsed": false
   }
  },
  {
   "cell_type": "code",
   "execution_count": 33,
   "outputs": [],
   "source": [
    "def TSNE_reduce(data):\n",
    "    tsne = TSNE()\n",
    "    return tsne.fit_transform(data), \"TSNE\"\n",
    "\n",
    "def Umap_reduce(data):\n",
    "    umap = UMAP()\n",
    "    return umap.fit_transform(data), \"Umap\"\n",
    "\n",
    "def Trimap_reduce(data):\n",
    "    trimap = TRIMAP()\n",
    "    return trimap.fit_transform(data), \"Trimap\"\n",
    "\n",
    "def Pacmap_reduce(data):\n",
    "    pacmap = PaCMAP()\n",
    "    return pacmap.fit_transform(data), \"Pacmap\"\n",
    "\n",
    "# def IVHD_reduce(data):\n",
    "#     ...\n",
    "\n"
   ],
   "metadata": {
    "collapsed": false,
    "ExecuteTime": {
     "end_time": "2023-06-29T15:28:18.910904800Z",
     "start_time": "2023-06-29T15:28:18.894903400Z"
    }
   }
  },
  {
   "cell_type": "code",
   "execution_count": 14,
   "outputs": [],
   "source": [
    "# def show_plot(reduction_method):\n",
    "#     dimensions = [8, 6, 3]\n",
    "#     emem = [100, 150, 200]\n",
    "#     colors = ['b', 'g', 'r']  # Define colors for each set\n",
    "#\n",
    "#     fig, axes = plt.subplots(len(dimensions), len(emem))\n",
    "#\n",
    "#     for i, d in enumerate(dimensions):\n",
    "#         for j, e in enumerate(emem):\n",
    "#             #show_plot(TSNE_reduce)\n",
    "#             sphere_points = sphere_points_generator(d, e, 5)\n",
    "#             ball_points = ball_points_generator(d, e, 2)\n",
    "#             data = np.concatenate((sphere_points, ball_points))\n",
    "#\n",
    "#             # tsne\n",
    "#             reduced = reduction_method(data)\n",
    "#\n",
    "#             # Plot in the corresponding subplot\n",
    "#             axes[i, j].set_title(f\"dim: {d}, elem: {e}\")\n",
    "#             axes[i, j].axis('off')\n",
    "#\n",
    "#             # Assign colors based on the sets\n",
    "#             axes[i, j].scatter(reduced[:e, 0], reduced[:e, 1], c=colors[0], alpha=0.5, label='Sphere Points')\n",
    "#             axes[i, j].scatter(reduced[e:, 0], reduced[e:, 1], c=colors[1], alpha=0.5, label='Ball Points')\n",
    "#\n",
    "#     plt.tight_layout()\n",
    "#\n",
    "#     # Create a single legend for all plots\n",
    "#     handles, labels = axes[0, 0].get_legend_handles_labels()\n",
    "#     fig.legend(handles, labels)\n",
    "#\n",
    "#     plt.show()\n",
    "#\n",
    "#\n",
    "# show_plot(Trimap_reduce)"
   ],
   "metadata": {
    "collapsed": false,
    "ExecuteTime": {
     "end_time": "2023-06-29T14:59:20.560476600Z",
     "start_time": "2023-06-29T14:59:20.417444900Z"
    }
   }
  },
  {
   "cell_type": "code",
   "execution_count": 20,
   "outputs": [],
   "source": [
    "## losowe generowanie\n",
    "\n",
    "#kulka i 2 sfery\n",
    "def ball_two_sphere(dim,points):\n",
    "    sphere_points = sphere_points_generator(dim, points, 5)\n",
    "    sphere_points2 = sphere_points_generator(dim, points, 7)\n",
    "    ball_points = ball_points_generator(dim, points, 2)\n",
    "    return np.concatenate((sphere_points, sphere_points2, ball_points)), 3\n",
    "\n",
    "#one sphere one ball\n",
    "def ball_sphere(dim,points):\n",
    "        sphere_points = sphere_points_generator(dim, points, 5)\n",
    "        ball_points = ball_points_generator(dim, points, 2)\n",
    "        return  np.concatenate((sphere_points, ball_points)), 2\n",
    "\n",
    "\n",
    "def one_sphere_one_torus_inside_dataset( dim, points_number, sphere_r=4, torus_R=2, torus_r=1):\n",
    "\n",
    "     sphere_points = sphere_points_generator(dim, points_number, sphere_r)\n",
    "     torus_points = generate_n_dimensional_torus(dim, points_number, torus_R, torus_r)\n",
    "\n",
    "     return np.concatenate((sphere_points, torus_points)), 4\n"
   ],
   "metadata": {
    "collapsed": false,
    "ExecuteTime": {
     "end_time": "2023-06-29T15:00:45.386144100Z",
     "start_time": "2023-06-29T15:00:45.361360200Z"
    }
   }
  },
  {
   "cell_type": "code",
   "execution_count": 48,
   "outputs": [],
   "source": [
    "import os\n",
    "\n",
    "\n",
    "# points_list = [1000, 2000, 5000, 20000, 50000]\n",
    "# dimmentions = [3, 5, 10, 20]\n",
    "\n",
    "\n",
    "\n",
    "\n",
    "def show_plot(reduction_method, data):\n",
    "    dimensions = [3, 5, 10, 20]\n",
    "    emem = [1000, 2000, 5000, 20000, 50000]\n",
    "    colors = ['b', 'g', 'r']  # Define colors for each set\n",
    "\n",
    "    fig, axes = plt.subplots(len(dimensions), len(emem))\n",
    "    plt_name = \"\"\n",
    "    for i, d in enumerate(dimensions):\n",
    "        for j, e in enumerate(emem):\n",
    "            # tsne\n",
    "            dataset, object_count = data(d,e)\n",
    "            reduced, red_name = reduction_method(dataset) #to\n",
    "\n",
    "            #generate_metrics(reduced)\n",
    "            # print(type(dataset))\n",
    "            # print(type(reduced))\n",
    "            # Plot in the corresponding subplot\n",
    "            axes[i, j].set_title(f\"dim: {d}, elem: {e}\")\n",
    "            axes[i, j].axis('off')\n",
    "            fig_name = ''\n",
    "\n",
    "            #if object_count == 2:\n",
    "            if object_count == 2:\n",
    "                # Assign colors based on the sets\n",
    "                axes[i, j].scatter(reduced[:e, 0], reduced[:e, 1], c=colors[0], alpha=0.5, label='Sphere Points')\n",
    "                axes[i, j].scatter(reduced[e:, 0], reduced[e:, 1], c=colors[1], alpha=0.5, label='Ball Points')\n",
    "                fig_name = \"ball_sphere\"\n",
    "            elif object_count == 3:\n",
    "                axes[i, j].scatter(reduced[:e, 0], reduced[:e, 1], c=colors[1], alpha=0.5, label='Sphere Points')\n",
    "                axes[i, j].scatter(reduced[e:2*e, 0], reduced[e:2*e, 1], c=colors[0], alpha=0.5, label='Sphere Points')\n",
    "                axes[i, j].scatter(reduced[2*e:, 0], reduced[2*e:, 1], c=colors[2], alpha=0.5, label='Ball Points')\n",
    "                fig_name =\"ball_two_sphere\"\n",
    "            else:\n",
    "                axes[i, j].scatter(reduced[:e, 0], reduced[:e, 1], c=colors[0], alpha=0.5, label='Sphere Points')\n",
    "                axes[i, j].scatter(reduced[e:, 0], reduced[e:, 1], c=colors[1], alpha=0.5, label='torus_points')\n",
    "                fig_name = \"one_sphere_one_torus_inside_dataset\"\n",
    "\n",
    "            #zapis do csv\n",
    "            #self.to_csv(df, f'datasets/one_sphere_one_torus_inside/dim_{dim}_points_{points_number}.csv')\n",
    "            # Sprawdzenie, czy folder istnieje\n",
    "            folder_path = f\"datasets/{red_name}/{fig_name}\"\n",
    "            if not os.path.exists(folder_path):\n",
    "                os.makedirs(folder_path)\n",
    "\n",
    "            # Zapis plików\n",
    "            np.savetxt(f\"{folder_path}/EMB_dim_{d}_points_{e}.csv\", reduced, delimiter=\",\")\n",
    "            np.savetxt(f\"{folder_path}/DATA_dim_{d}_points_{e}.csv\", dataset, delimiter=\",\")\n",
    "            plt_name = f'plots_final/{red_name}_{fig_name}.png'\n",
    "\n",
    "\n",
    "    plt.tight_layout()\n",
    "\n",
    "    # Create a single legend for all plots\n",
    "    handles, labels = axes[0, 0].get_legend_handles_labels()\n",
    "    fig.legend(handles, labels)\n",
    "    plt.savefig(plt_name)\n",
    "    print(plt_name)"
   ],
   "metadata": {
    "collapsed": false,
    "ExecuteTime": {
     "end_time": "2023-06-29T15:42:02.038921600Z",
     "start_time": "2023-06-29T15:42:02.015466100Z"
    }
   }
  },
  {
   "cell_type": "code",
   "execution_count": 49,
   "outputs": [],
   "source": [
    "#show_plot(Trimap_reduce,ball_two_sphere)"
   ],
   "metadata": {
    "collapsed": false,
    "ExecuteTime": {
     "end_time": "2023-06-29T15:42:02.757970200Z",
     "start_time": "2023-06-29T15:42:02.738739300Z"
    }
   }
  },
  {
   "cell_type": "code",
   "execution_count": 50,
   "outputs": [],
   "source": [
    "#show_plot(Umap_reduce,ball_two_sphere)\n"
   ],
   "metadata": {
    "collapsed": false,
    "ExecuteTime": {
     "end_time": "2023-06-29T15:42:03.182990200Z",
     "start_time": "2023-06-29T15:42:03.152966600Z"
    }
   }
  },
  {
   "cell_type": "code",
   "execution_count": 51,
   "outputs": [
    {
     "name": "stdout",
     "output_type": "stream",
     "text": [
      "TSNE\n"
     ]
    },
    {
     "ename": "KeyboardInterrupt",
     "evalue": "",
     "output_type": "error",
     "traceback": [
      "\u001B[1;31m---------------------------------------------------------------------------\u001B[0m",
      "\u001B[1;31mKeyboardInterrupt\u001B[0m                         Traceback (most recent call last)",
      "Cell \u001B[1;32mIn[51], line 7\u001B[0m\n\u001B[0;32m      4\u001B[0m \u001B[38;5;28mprint\u001B[39m(reduction_name)\n\u001B[0;32m      5\u001B[0m \u001B[38;5;28;01mfor\u001B[39;00m figure_name, generate_figure \u001B[38;5;129;01min\u001B[39;00m figure_dict\u001B[38;5;241m.\u001B[39mitems():\n\u001B[0;32m      6\u001B[0m     \u001B[38;5;66;03m#print(figure_name)\u001B[39;00m\n\u001B[1;32m----> 7\u001B[0m     \u001B[43mshow_plot\u001B[49m\u001B[43m(\u001B[49m\u001B[43mreduction_m\u001B[49m\u001B[43m,\u001B[49m\u001B[43m \u001B[49m\u001B[43mgenerate_figure\u001B[49m\u001B[43m)\u001B[49m\n",
      "Cell \u001B[1;32mIn[48], line 21\u001B[0m, in \u001B[0;36mshow_plot\u001B[1;34m(reduction_method, data)\u001B[0m\n\u001B[0;32m     18\u001B[0m \u001B[38;5;28;01mfor\u001B[39;00m j, e \u001B[38;5;129;01min\u001B[39;00m \u001B[38;5;28menumerate\u001B[39m(emem):\n\u001B[0;32m     19\u001B[0m     \u001B[38;5;66;03m# tsne\u001B[39;00m\n\u001B[0;32m     20\u001B[0m     dataset, object_count \u001B[38;5;241m=\u001B[39m data(d,e)\n\u001B[1;32m---> 21\u001B[0m     reduced, red_name \u001B[38;5;241m=\u001B[39m \u001B[43mreduction_method\u001B[49m\u001B[43m(\u001B[49m\u001B[43mdataset\u001B[49m\u001B[43m)\u001B[49m \u001B[38;5;66;03m#to\u001B[39;00m\n\u001B[0;32m     23\u001B[0m     \u001B[38;5;66;03m#generate_metrics(reduced)\u001B[39;00m\n\u001B[0;32m     24\u001B[0m     \u001B[38;5;66;03m# print(type(dataset))\u001B[39;00m\n\u001B[0;32m     25\u001B[0m     \u001B[38;5;66;03m# print(type(reduced))\u001B[39;00m\n\u001B[0;32m     26\u001B[0m     \u001B[38;5;66;03m# Plot in the corresponding subplot\u001B[39;00m\n\u001B[0;32m     27\u001B[0m     axes[i, j]\u001B[38;5;241m.\u001B[39mset_title(\u001B[38;5;124mf\u001B[39m\u001B[38;5;124m\"\u001B[39m\u001B[38;5;124mdim: \u001B[39m\u001B[38;5;132;01m{\u001B[39;00md\u001B[38;5;132;01m}\u001B[39;00m\u001B[38;5;124m, elem: \u001B[39m\u001B[38;5;132;01m{\u001B[39;00me\u001B[38;5;132;01m}\u001B[39;00m\u001B[38;5;124m\"\u001B[39m)\n",
      "Cell \u001B[1;32mIn[33], line 3\u001B[0m, in \u001B[0;36mTSNE_reduce\u001B[1;34m(data)\u001B[0m\n\u001B[0;32m      1\u001B[0m \u001B[38;5;28;01mdef\u001B[39;00m \u001B[38;5;21mTSNE_reduce\u001B[39m(data):\n\u001B[0;32m      2\u001B[0m     tsne \u001B[38;5;241m=\u001B[39m TSNE()\n\u001B[1;32m----> 3\u001B[0m     \u001B[38;5;28;01mreturn\u001B[39;00m \u001B[43mtsne\u001B[49m\u001B[38;5;241;43m.\u001B[39;49m\u001B[43mfit_transform\u001B[49m\u001B[43m(\u001B[49m\u001B[43mdata\u001B[49m\u001B[43m)\u001B[49m, \u001B[38;5;124m\"\u001B[39m\u001B[38;5;124mTSNE\u001B[39m\u001B[38;5;124m\"\u001B[39m\n",
      "File \u001B[1;32mM:\\Anaconda\\envs\\tf\\lib\\site-packages\\sklearn\\manifold\\_t_sne.py:1119\u001B[0m, in \u001B[0;36mTSNE.fit_transform\u001B[1;34m(self, X, y)\u001B[0m\n\u001B[0;32m   1117\u001B[0m \u001B[38;5;28mself\u001B[39m\u001B[38;5;241m.\u001B[39m_validate_params()\n\u001B[0;32m   1118\u001B[0m \u001B[38;5;28mself\u001B[39m\u001B[38;5;241m.\u001B[39m_check_params_vs_input(X)\n\u001B[1;32m-> 1119\u001B[0m embedding \u001B[38;5;241m=\u001B[39m \u001B[38;5;28;43mself\u001B[39;49m\u001B[38;5;241;43m.\u001B[39;49m\u001B[43m_fit\u001B[49m\u001B[43m(\u001B[49m\u001B[43mX\u001B[49m\u001B[43m)\u001B[49m\n\u001B[0;32m   1120\u001B[0m \u001B[38;5;28mself\u001B[39m\u001B[38;5;241m.\u001B[39membedding_ \u001B[38;5;241m=\u001B[39m embedding\n\u001B[0;32m   1121\u001B[0m \u001B[38;5;28;01mreturn\u001B[39;00m \u001B[38;5;28mself\u001B[39m\u001B[38;5;241m.\u001B[39membedding_\n",
      "File \u001B[1;32mM:\\Anaconda\\envs\\tf\\lib\\site-packages\\sklearn\\manifold\\_t_sne.py:1012\u001B[0m, in \u001B[0;36mTSNE._fit\u001B[1;34m(self, X, skip_num_points)\u001B[0m\n\u001B[0;32m   1006\u001B[0m \u001B[38;5;66;03m# Degrees of freedom of the Student's t-distribution. The suggestion\u001B[39;00m\n\u001B[0;32m   1007\u001B[0m \u001B[38;5;66;03m# degrees_of_freedom = n_components - 1 comes from\u001B[39;00m\n\u001B[0;32m   1008\u001B[0m \u001B[38;5;66;03m# \"Learning a Parametric Embedding by Preserving Local Structure\"\u001B[39;00m\n\u001B[0;32m   1009\u001B[0m \u001B[38;5;66;03m# Laurens van der Maaten, 2009.\u001B[39;00m\n\u001B[0;32m   1010\u001B[0m degrees_of_freedom \u001B[38;5;241m=\u001B[39m \u001B[38;5;28mmax\u001B[39m(\u001B[38;5;28mself\u001B[39m\u001B[38;5;241m.\u001B[39mn_components \u001B[38;5;241m-\u001B[39m \u001B[38;5;241m1\u001B[39m, \u001B[38;5;241m1\u001B[39m)\n\u001B[1;32m-> 1012\u001B[0m \u001B[38;5;28;01mreturn\u001B[39;00m \u001B[38;5;28;43mself\u001B[39;49m\u001B[38;5;241;43m.\u001B[39;49m\u001B[43m_tsne\u001B[49m\u001B[43m(\u001B[49m\n\u001B[0;32m   1013\u001B[0m \u001B[43m    \u001B[49m\u001B[43mP\u001B[49m\u001B[43m,\u001B[49m\n\u001B[0;32m   1014\u001B[0m \u001B[43m    \u001B[49m\u001B[43mdegrees_of_freedom\u001B[49m\u001B[43m,\u001B[49m\n\u001B[0;32m   1015\u001B[0m \u001B[43m    \u001B[49m\u001B[43mn_samples\u001B[49m\u001B[43m,\u001B[49m\n\u001B[0;32m   1016\u001B[0m \u001B[43m    \u001B[49m\u001B[43mX_embedded\u001B[49m\u001B[38;5;241;43m=\u001B[39;49m\u001B[43mX_embedded\u001B[49m\u001B[43m,\u001B[49m\n\u001B[0;32m   1017\u001B[0m \u001B[43m    \u001B[49m\u001B[43mneighbors\u001B[49m\u001B[38;5;241;43m=\u001B[39;49m\u001B[43mneighbors_nn\u001B[49m\u001B[43m,\u001B[49m\n\u001B[0;32m   1018\u001B[0m \u001B[43m    \u001B[49m\u001B[43mskip_num_points\u001B[49m\u001B[38;5;241;43m=\u001B[39;49m\u001B[43mskip_num_points\u001B[49m\u001B[43m,\u001B[49m\n\u001B[0;32m   1019\u001B[0m \u001B[43m\u001B[49m\u001B[43m)\u001B[49m\n",
      "File \u001B[1;32mM:\\Anaconda\\envs\\tf\\lib\\site-packages\\sklearn\\manifold\\_t_sne.py:1080\u001B[0m, in \u001B[0;36mTSNE._tsne\u001B[1;34m(self, P, degrees_of_freedom, n_samples, X_embedded, neighbors, skip_num_points)\u001B[0m\n\u001B[0;32m   1078\u001B[0m     opt_args[\u001B[38;5;124m\"\u001B[39m\u001B[38;5;124mmomentum\u001B[39m\u001B[38;5;124m\"\u001B[39m] \u001B[38;5;241m=\u001B[39m \u001B[38;5;241m0.8\u001B[39m\n\u001B[0;32m   1079\u001B[0m     opt_args[\u001B[38;5;124m\"\u001B[39m\u001B[38;5;124mn_iter_without_progress\u001B[39m\u001B[38;5;124m\"\u001B[39m] \u001B[38;5;241m=\u001B[39m \u001B[38;5;28mself\u001B[39m\u001B[38;5;241m.\u001B[39mn_iter_without_progress\n\u001B[1;32m-> 1080\u001B[0m     params, kl_divergence, it \u001B[38;5;241m=\u001B[39m _gradient_descent(obj_func, params, \u001B[38;5;241m*\u001B[39m\u001B[38;5;241m*\u001B[39mopt_args)\n\u001B[0;32m   1082\u001B[0m \u001B[38;5;66;03m# Save the final number of iterations\u001B[39;00m\n\u001B[0;32m   1083\u001B[0m \u001B[38;5;28mself\u001B[39m\u001B[38;5;241m.\u001B[39mn_iter_ \u001B[38;5;241m=\u001B[39m it\n",
      "File \u001B[1;32mM:\\Anaconda\\envs\\tf\\lib\\site-packages\\sklearn\\manifold\\_t_sne.py:401\u001B[0m, in \u001B[0;36m_gradient_descent\u001B[1;34m(objective, p0, it, n_iter, n_iter_check, n_iter_without_progress, momentum, learning_rate, min_gain, min_grad_norm, verbose, args, kwargs)\u001B[0m\n\u001B[0;32m    397\u001B[0m kwargs[\u001B[38;5;124m\"\u001B[39m\u001B[38;5;124mcompute_error\u001B[39m\u001B[38;5;124m\"\u001B[39m] \u001B[38;5;241m=\u001B[39m check_convergence \u001B[38;5;129;01mor\u001B[39;00m i \u001B[38;5;241m==\u001B[39m n_iter \u001B[38;5;241m-\u001B[39m \u001B[38;5;241m1\u001B[39m\n\u001B[0;32m    399\u001B[0m error, grad \u001B[38;5;241m=\u001B[39m objective(p, \u001B[38;5;241m*\u001B[39margs, \u001B[38;5;241m*\u001B[39m\u001B[38;5;241m*\u001B[39mkwargs)\n\u001B[1;32m--> 401\u001B[0m inc \u001B[38;5;241m=\u001B[39m \u001B[43mupdate\u001B[49m\u001B[43m \u001B[49m\u001B[38;5;241;43m*\u001B[39;49m\u001B[43m \u001B[49m\u001B[43mgrad\u001B[49m \u001B[38;5;241m<\u001B[39m \u001B[38;5;241m0.0\u001B[39m\n\u001B[0;32m    402\u001B[0m dec \u001B[38;5;241m=\u001B[39m np\u001B[38;5;241m.\u001B[39minvert(inc)\n\u001B[0;32m    403\u001B[0m gains[inc] \u001B[38;5;241m+\u001B[39m\u001B[38;5;241m=\u001B[39m \u001B[38;5;241m0.2\u001B[39m\n",
      "\u001B[1;31mKeyboardInterrupt\u001B[0m: "
     ]
    },
    {
     "data": {
      "text/plain": "<Figure size 640x480 with 20 Axes>",
      "image/png": "[encoded data removed]"
     },
     "metadata": {},
     "output_type": "display_data"
    }
   ],
   "source": [
    "reduction_dict = { \"TSNE\": TSNE_reduce,\"Umap\":Umap_reduce,\"Trimap\":Trimap_reduce,\"Pacmap\":Pacmap_reduce}\n",
    "figure_dict = {\"ball_sphere\" : ball_sphere, \"ball_two_sphere\": ball_two_sphere, \"one_sphere_one_torus_inside_dataset\":one_sphere_one_torus_inside_dataset}\n",
    "for reduction_name, reduction_m in reduction_dict.items():\n",
    "    print(reduction_name)\n",
    "    for figure_name, generate_figure in figure_dict.items():\n",
    "        #print(figure_name)\n",
    "        show_plot(reduction_m, generate_figure)\n"
   ],
   "metadata": {
    "collapsed": false,
    "ExecuteTime": {
     "end_time": "2023-06-29T15:46:46.539795600Z",
     "start_time": "2023-06-29T15:42:03.689534Z"
    }
   }
  },
  {
   "cell_type": "code",
   "execution_count": null,
   "outputs": [],
   "source": [],
   "metadata": {
    "collapsed": false
   }
  },
  {
   "cell_type": "code",
   "execution_count": null,
   "outputs": [],
   "source": [
    "####to jest na razie on hold"
   ],
   "metadata": {
    "collapsed": false
   }
  },
  {
   "cell_type": "code",
   "execution_count": null,
   "outputs": [],
   "source": [
    "# def show_plot(reduction_method,data, dimensions, points_list):\n",
    "#     colors = ['b', 'g', 'r']  # Define colors for each set\n",
    "#\n",
    "#     fig, axes = plt.subplots(len(dimensions), len(points_list))\n",
    "#\n",
    "#     for i, d in enumerate(dimensions):\n",
    "#         for j, e in enumerate(points_list):\n",
    "#             # tsne\n",
    "#             reduced = reduction_method(data)\n",
    "#\n",
    "#             # Plot in the corresponding subplot\n",
    "#             axes[i, j].set_title(f\"dim: {d}, elem: {e}\")\n",
    "#             axes[i, j].axis('off')\n",
    "#\n",
    "#             # Assign colors based on the sets\n",
    "#             axes[i, j].scatter(reduced[:e, 0], reduced[:e, 1], c=colors[0], alpha=0.5, label='Sphere Points')\n",
    "#             axes[i, j].scatter(reduced[e:, 0], reduced[e:, 1], c=colors[1], alpha=0.5, label='Ball Points')\n",
    "#\n",
    "#     plt.tight_layout()\n",
    "#\n",
    "#     # Create a single legend for all plots\n",
    "#     handles, labels = axes[0, 0].get_legend_handles_labels()\n",
    "#     fig.legend(handles, labels)\n",
    "#\n",
    "#     plt.show()\n",
    "\n",
    "\n"
   ],
   "metadata": {
    "collapsed": false
   }
  },
  {
   "cell_type": "code",
   "execution_count": null,
   "outputs": [],
   "source": [
    "# import os\n",
    "# import numpy as np\n",
    "# import csv\n",
    "# import re\n",
    "#\n",
    "#\n",
    "#\n",
    "#\n",
    "# def read_directory_to_ndarrays(directory_path, delimiter=','):\n",
    "#     try:\n",
    "#         file_data = {}\n",
    "#\n",
    "#         # Iterate over all files in the directory\n",
    "#         for file_name in os.listdir(directory_path):\n",
    "#             file_path = os.path.join(directory_path, file_name)\n",
    "#\n",
    "#             # Read the CSV file using the csv module\n",
    "#             with open(file_path, 'r') as file:\n",
    "#                 reader = csv.reader(file, delimiter=delimiter)\n",
    "#                 data_list = list(reader)\n",
    "#\n",
    "#             # Convert the data into a NumPy ndarray\n",
    "#             data_array = np.array(data_list)\n",
    "#\n",
    "#             # Store the ndarray with the corresponding file name\n",
    "#             file_data[file_name] = data_array\n",
    "#\n",
    "#         return file_data\n",
    "#\n",
    "#     except IOError as e:\n",
    "#         print(\"Error reading the directory:\", str(e))\n",
    "#         return None\n",
    "#\n",
    "#\n",
    "# directory_path = 'M:/Studia/nie/DataVisualizationProject-main/datasets/one_sphere_one_torus_inside'\n",
    "# data_dict = read_directory_to_ndarrays(directory_path)\n",
    "#\n",
    "#\n",
    "#\n",
    "# if data_dict is not None:\n",
    "#     for file_name, data in data_dict.items():\n",
    "#         print(\"File name:\", file_name)\n",
    "#         matches = re.findall(r'\\d+', file_name)\n",
    "#         numbers = [int(match) for match in matches]\n",
    "#         print(data)\n",
    "#         show_plot(Trimap_reduce, data)\n",
    "#\n",
    "\n",
    "\n",
    "\n",
    "\n",
    "\n"
   ],
   "metadata": {
    "collapsed": false
   }
  },
  {
   "cell_type": "code",
   "execution_count": null,
   "outputs": [],
   "source": [],
   "metadata": {
    "collapsed": false
   }
  },
  {
   "cell_type": "code",
   "execution_count": null,
   "outputs": [],
   "source": [],
   "metadata": {
    "collapsed": false
   }
  }
 ],
 "metadata": {
  "kernelspec": {
   "display_name": "Python 3",
   "language": "python",
   "name": "python3"
  },
  "language_info": {
   "codemirror_mode": {
    "name": "ipython",
    "version": 2
   },
   "file_extension": ".py",
   "mimetype": "text/x-python",
   "name": "python",
   "nbconvert_exporter": "python",
   "pygments_lexer": "ipython2",
   "version": "2.7.6"
  }
 },
 "nbformat": 4,
 "nbformat_minor": 0
}
